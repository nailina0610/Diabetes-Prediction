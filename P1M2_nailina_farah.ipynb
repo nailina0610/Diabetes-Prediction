{
 "cells": [
  {
   "cell_type": "markdown",
   "metadata": {},
   "source": [
    "# i. Perkenalan\n",
    ">Bab pengenalan harus diisi dengan identitas, gambaran besar dataset yang digunakan, dan objective yang ingin dicapai."
   ]
  },
  {
   "cell_type": "markdown",
   "metadata": {},
   "source": [
    "Nama : Nailina Farah\n",
    "\n",
    "Batch : FTDS_RMT_28\n",
    "\n",
    "Dataset : diabetes_prediction_dataset.csv (https://www.kaggle.com/datasets/iammustafatz/diabetes-prediction-dataset)\n",
    "\n",
    "Problem Statement : Model dikembangkan menggunakan algoritma terbaik yang dipilih melalui proses cross-validation antara KNN, SVM, Decision Tree, dan Random Forest untuk memprediksi kemungkinan terjadinya penyakit diabetes pada seseorang. Evaluasi model dilakukan dengan menggunakan metrik klasifikasi yaitu Recall. Metrik Recall cocok pada kasus saya kali ini karena memiliki data yang imbalance dan ingin fokus mengurangi false negative karena dapat mengakibatkan pengobatan yang terlambat atau tidak sesuai. Dengan meningkatkan Skor recall, model akan lebih efektif dalam mendeteksi semua contoh positif, termasuk yang minoritas.\n",
    "\n",
    "Objective: Project ini bertujuan untuk memprediksi kemungkinan terjadinya diabetes pada seseorang berdasarkan beberapa faktor menggunakan data yang tersedia. Prediksi ini penting untuk membantu mengidentifikasi risiko diabetes dan mengambil langkah-langkah yang perlu dilakukan untuk menanganinya."
   ]
  },
  {
   "cell_type": "markdown",
   "metadata": {},
   "source": [
    "# ii. Import Libraries\n",
    "> Cell pertama pada notebook harus berisi dan hanya berisi semua library yang digunakan dalam project."
   ]
  },
  {
   "cell_type": "code",
   "execution_count": 1,
   "metadata": {},
   "outputs": [],
   "source": [
    "# Import Libraries\n",
    "import pandas as pd\n",
    "import numpy as np\n",
    "import matplotlib.pyplot as plt\n",
    "import seaborn as sns\n",
    "import warnings \n",
    "warnings.filterwarnings(\"ignore\")\n",
    "from sklearn.model_selection import train_test_split\n",
    "import phik\n",
    "from sklearn.preprocessing import OrdinalEncoder, OneHotEncoder, StandardScaler\n",
    "from sklearn.compose import ColumnTransformer\n",
    "from sklearn.compose import ColumnTransformer\n",
    "from sklearn.pipeline import make_pipeline\n",
    "from sklearn.svm import SVC\n",
    "from sklearn.neighbors import KNeighborsClassifier\n",
    "from sklearn.tree import DecisionTreeClassifier\n",
    "from sklearn.ensemble import RandomForestClassifier, GradientBoostingClassifier\n",
    "from sklearn.model_selection import StratifiedKFold\n",
    "from sklearn.model_selection import cross_val_score\n",
    "from sklearn.model_selection import RandomizedSearchCV\n",
    "from sklearn.metrics import classification_report, ConfusionMatrixDisplay, recall_score\n",
    "from scipy.stats import randint\n",
    "import pickle\n"
   ]
  },
  {
   "cell_type": "markdown",
   "metadata": {},
   "source": [
    "# iii. Data Loading\n",
    "> Bagian ini berisi proses penyiapan data sebelum dilakukan eksplorasi data lebih lanjut. Proses Data Loading dapat berupa memberi nama baru untuk setiap kolom, mengecek ukuran dataset, dll."
   ]
  },
  {
   "cell_type": "markdown",
   "metadata": {},
   "source": [
    "**Informasi Data (Deskripsi Kolom)**\n",
    "\n",
    "Dataset prediksi diabetes adalah kumpulan data medis dan demografis dari pasien, beserta status diabetes mereka (positif atau negatif). Data ini mencakup fitur-fitur seperti usia, jenis kelamin, indeks massa tubuh (BMI), hipertensi, penyakit jantung, riwayat merokok, tingkat HbA1c, dan kadar glukosa darah. Dataset ini dapat digunakan untuk membangun model machine learning untuk memprediksi diabetes pada pasien berdasarkan riwayat medis dan informasi demografis mereka. Hal ini dapat berguna bagi profesional kesehatan dalam mengidentifikasi pasien yang mungkin berisiko mengembangkan diabetes dan dalam mengembangkan rencana perawatan yang dipersonalisasi. Selain itu, dataset ini dapat digunakan oleh peneliti untuk menjelajahi hubungan antara berbagai faktor medis dan demografis dengan kemungkinan mengembangkan diabetes.\n",
    "\n",
    "`gender`: Gender refers to the biological sex of the individual, which can have an impact on their susceptibility to diabetes.\n",
    "\n",
    "`age`: Age is an important factor as diabetes is more commonly diagnosed in older adults.Age ranges from 0-80 in our dataset.\n",
    "\n",
    "`hypertension`: Hypertension is a medical condition in which the blood pressure in the arteries is persistently elevated. It has values a 0 or 1 where 0 indicates they don’t have hypertension and for 1 it means they have hypertension.\n",
    "\n",
    "`heart_disease`: Heart disease is another medical condition that is associated with an increased risk of developing diabetes. It has values a 0 or 1 where 0 indicates they don’t have heart disease and for 1 it means they have heart disease.\n",
    "\n",
    "`smoking_history`: Smoking history is also considered a risk factor for diabetes and can exacerbate the complications associated with diabetes.In our dataset we have 5 categories i.e not current,former,No Info,current,never and ever.\n",
    "\n",
    "`bmi`: BMI (Body Mass Index) is a measure of body fat based on weight and height. Higher BMI values are linked to a higher risk of diabetes. The range of BMI in the dataset is from 10.16 to 71.55. BMI less than 18.5 is underweight, 18.5-24.9 is normal, 25-29.9 is overweight, and 30 or more is obese.\n",
    "\n",
    "`HbA1c_level`: HbA1c (Hemoglobin A1c) level is a measure of a person's average blood sugar level over the past 2-3 months. Higher levels indicate a greater risk of developing diabetes. Mostly more than 6.5% of HbA1c Level indicates diabetes.\n",
    "\n",
    "`blood_glucose_level`: Blood glucose level refers to the amount of glucose in the bloodstream at a given time. High blood glucose levels are a key indicator of diabetes.\n",
    "\n",
    "`diabetes`: Diabetes is the target variable being predicted, with values of 1 indicating the presence of diabetes and 0 indicating the absence of diabetes."
   ]
  },
  {
   "cell_type": "code",
   "execution_count": 2,
   "metadata": {},
   "outputs": [],
   "source": [
    "# Load dataset\n",
    "df_ori = pd.read_csv('diabetes_prediction_dataset.csv')\n",
    "\n",
    "# Duplicate data ori\n",
    "df = df_ori.copy()"
   ]
  },
  {
   "cell_type": "code",
   "execution_count": 3,
   "metadata": {},
   "outputs": [
    {
     "data": {
      "text/html": [
       "<div>\n",
       "<style scoped>\n",
       "    .dataframe tbody tr th:only-of-type {\n",
       "        vertical-align: middle;\n",
       "    }\n",
       "\n",
       "    .dataframe tbody tr th {\n",
       "        vertical-align: top;\n",
       "    }\n",
       "\n",
       "    .dataframe thead th {\n",
       "        text-align: right;\n",
       "    }\n",
       "</style>\n",
       "<table border=\"1\" class=\"dataframe\">\n",
       "  <thead>\n",
       "    <tr style=\"text-align: right;\">\n",
       "      <th></th>\n",
       "      <th>gender</th>\n",
       "      <th>age</th>\n",
       "      <th>hypertension</th>\n",
       "      <th>heart_disease</th>\n",
       "      <th>smoking_history</th>\n",
       "      <th>bmi</th>\n",
       "      <th>HbA1c_level</th>\n",
       "      <th>blood_glucose_level</th>\n",
       "      <th>diabetes</th>\n",
       "    </tr>\n",
       "  </thead>\n",
       "  <tbody>\n",
       "    <tr>\n",
       "      <th>0</th>\n",
       "      <td>Female</td>\n",
       "      <td>80.0</td>\n",
       "      <td>0</td>\n",
       "      <td>1</td>\n",
       "      <td>never</td>\n",
       "      <td>25.19</td>\n",
       "      <td>6.6</td>\n",
       "      <td>140</td>\n",
       "      <td>0</td>\n",
       "    </tr>\n",
       "    <tr>\n",
       "      <th>1</th>\n",
       "      <td>Female</td>\n",
       "      <td>54.0</td>\n",
       "      <td>0</td>\n",
       "      <td>0</td>\n",
       "      <td>No Info</td>\n",
       "      <td>27.32</td>\n",
       "      <td>6.6</td>\n",
       "      <td>80</td>\n",
       "      <td>0</td>\n",
       "    </tr>\n",
       "    <tr>\n",
       "      <th>2</th>\n",
       "      <td>Male</td>\n",
       "      <td>28.0</td>\n",
       "      <td>0</td>\n",
       "      <td>0</td>\n",
       "      <td>never</td>\n",
       "      <td>27.32</td>\n",
       "      <td>5.7</td>\n",
       "      <td>158</td>\n",
       "      <td>0</td>\n",
       "    </tr>\n",
       "    <tr>\n",
       "      <th>3</th>\n",
       "      <td>Female</td>\n",
       "      <td>36.0</td>\n",
       "      <td>0</td>\n",
       "      <td>0</td>\n",
       "      <td>current</td>\n",
       "      <td>23.45</td>\n",
       "      <td>5.0</td>\n",
       "      <td>155</td>\n",
       "      <td>0</td>\n",
       "    </tr>\n",
       "    <tr>\n",
       "      <th>4</th>\n",
       "      <td>Male</td>\n",
       "      <td>76.0</td>\n",
       "      <td>1</td>\n",
       "      <td>1</td>\n",
       "      <td>current</td>\n",
       "      <td>20.14</td>\n",
       "      <td>4.8</td>\n",
       "      <td>155</td>\n",
       "      <td>0</td>\n",
       "    </tr>\n",
       "    <tr>\n",
       "      <th>5</th>\n",
       "      <td>Female</td>\n",
       "      <td>20.0</td>\n",
       "      <td>0</td>\n",
       "      <td>0</td>\n",
       "      <td>never</td>\n",
       "      <td>27.32</td>\n",
       "      <td>6.6</td>\n",
       "      <td>85</td>\n",
       "      <td>0</td>\n",
       "    </tr>\n",
       "    <tr>\n",
       "      <th>6</th>\n",
       "      <td>Female</td>\n",
       "      <td>44.0</td>\n",
       "      <td>0</td>\n",
       "      <td>0</td>\n",
       "      <td>never</td>\n",
       "      <td>19.31</td>\n",
       "      <td>6.5</td>\n",
       "      <td>200</td>\n",
       "      <td>1</td>\n",
       "    </tr>\n",
       "    <tr>\n",
       "      <th>7</th>\n",
       "      <td>Female</td>\n",
       "      <td>79.0</td>\n",
       "      <td>0</td>\n",
       "      <td>0</td>\n",
       "      <td>No Info</td>\n",
       "      <td>23.86</td>\n",
       "      <td>5.7</td>\n",
       "      <td>85</td>\n",
       "      <td>0</td>\n",
       "    </tr>\n",
       "    <tr>\n",
       "      <th>8</th>\n",
       "      <td>Male</td>\n",
       "      <td>42.0</td>\n",
       "      <td>0</td>\n",
       "      <td>0</td>\n",
       "      <td>never</td>\n",
       "      <td>33.64</td>\n",
       "      <td>4.8</td>\n",
       "      <td>145</td>\n",
       "      <td>0</td>\n",
       "    </tr>\n",
       "    <tr>\n",
       "      <th>9</th>\n",
       "      <td>Female</td>\n",
       "      <td>32.0</td>\n",
       "      <td>0</td>\n",
       "      <td>0</td>\n",
       "      <td>never</td>\n",
       "      <td>27.32</td>\n",
       "      <td>5.0</td>\n",
       "      <td>100</td>\n",
       "      <td>0</td>\n",
       "    </tr>\n",
       "  </tbody>\n",
       "</table>\n",
       "</div>"
      ],
      "text/plain": [
       "   gender   age  hypertension  heart_disease smoking_history    bmi  \\\n",
       "0  Female  80.0             0              1           never  25.19   \n",
       "1  Female  54.0             0              0         No Info  27.32   \n",
       "2    Male  28.0             0              0           never  27.32   \n",
       "3  Female  36.0             0              0         current  23.45   \n",
       "4    Male  76.0             1              1         current  20.14   \n",
       "5  Female  20.0             0              0           never  27.32   \n",
       "6  Female  44.0             0              0           never  19.31   \n",
       "7  Female  79.0             0              0         No Info  23.86   \n",
       "8    Male  42.0             0              0           never  33.64   \n",
       "9  Female  32.0             0              0           never  27.32   \n",
       "\n",
       "   HbA1c_level  blood_glucose_level  diabetes  \n",
       "0          6.6                  140         0  \n",
       "1          6.6                   80         0  \n",
       "2          5.7                  158         0  \n",
       "3          5.0                  155         0  \n",
       "4          4.8                  155         0  \n",
       "5          6.6                   85         0  \n",
       "6          6.5                  200         1  \n",
       "7          5.7                   85         0  \n",
       "8          4.8                  145         0  \n",
       "9          5.0                  100         0  "
      ]
     },
     "execution_count": 3,
     "metadata": {},
     "output_type": "execute_result"
    }
   ],
   "source": [
    "# show 10 data teratas\n",
    "df.head(10)"
   ]
  },
  {
   "cell_type": "code",
   "execution_count": 4,
   "metadata": {},
   "outputs": [
    {
     "data": {
      "text/html": [
       "<div>\n",
       "<style scoped>\n",
       "    .dataframe tbody tr th:only-of-type {\n",
       "        vertical-align: middle;\n",
       "    }\n",
       "\n",
       "    .dataframe tbody tr th {\n",
       "        vertical-align: top;\n",
       "    }\n",
       "\n",
       "    .dataframe thead th {\n",
       "        text-align: right;\n",
       "    }\n",
       "</style>\n",
       "<table border=\"1\" class=\"dataframe\">\n",
       "  <thead>\n",
       "    <tr style=\"text-align: right;\">\n",
       "      <th></th>\n",
       "      <th>gender</th>\n",
       "      <th>age</th>\n",
       "      <th>hypertension</th>\n",
       "      <th>heart_disease</th>\n",
       "      <th>smoking_history</th>\n",
       "      <th>bmi</th>\n",
       "      <th>HbA1c_level</th>\n",
       "      <th>blood_glucose_level</th>\n",
       "      <th>diabetes</th>\n",
       "    </tr>\n",
       "  </thead>\n",
       "  <tbody>\n",
       "    <tr>\n",
       "      <th>99990</th>\n",
       "      <td>Male</td>\n",
       "      <td>39.0</td>\n",
       "      <td>0</td>\n",
       "      <td>0</td>\n",
       "      <td>No Info</td>\n",
       "      <td>27.32</td>\n",
       "      <td>6.1</td>\n",
       "      <td>100</td>\n",
       "      <td>0</td>\n",
       "    </tr>\n",
       "    <tr>\n",
       "      <th>99991</th>\n",
       "      <td>Male</td>\n",
       "      <td>22.0</td>\n",
       "      <td>0</td>\n",
       "      <td>0</td>\n",
       "      <td>current</td>\n",
       "      <td>29.65</td>\n",
       "      <td>6.0</td>\n",
       "      <td>80</td>\n",
       "      <td>0</td>\n",
       "    </tr>\n",
       "    <tr>\n",
       "      <th>99992</th>\n",
       "      <td>Female</td>\n",
       "      <td>26.0</td>\n",
       "      <td>0</td>\n",
       "      <td>0</td>\n",
       "      <td>never</td>\n",
       "      <td>34.34</td>\n",
       "      <td>6.5</td>\n",
       "      <td>160</td>\n",
       "      <td>0</td>\n",
       "    </tr>\n",
       "    <tr>\n",
       "      <th>99993</th>\n",
       "      <td>Female</td>\n",
       "      <td>40.0</td>\n",
       "      <td>0</td>\n",
       "      <td>0</td>\n",
       "      <td>never</td>\n",
       "      <td>40.69</td>\n",
       "      <td>3.5</td>\n",
       "      <td>155</td>\n",
       "      <td>0</td>\n",
       "    </tr>\n",
       "    <tr>\n",
       "      <th>99994</th>\n",
       "      <td>Female</td>\n",
       "      <td>36.0</td>\n",
       "      <td>0</td>\n",
       "      <td>0</td>\n",
       "      <td>No Info</td>\n",
       "      <td>24.60</td>\n",
       "      <td>4.8</td>\n",
       "      <td>145</td>\n",
       "      <td>0</td>\n",
       "    </tr>\n",
       "    <tr>\n",
       "      <th>99995</th>\n",
       "      <td>Female</td>\n",
       "      <td>80.0</td>\n",
       "      <td>0</td>\n",
       "      <td>0</td>\n",
       "      <td>No Info</td>\n",
       "      <td>27.32</td>\n",
       "      <td>6.2</td>\n",
       "      <td>90</td>\n",
       "      <td>0</td>\n",
       "    </tr>\n",
       "    <tr>\n",
       "      <th>99996</th>\n",
       "      <td>Female</td>\n",
       "      <td>2.0</td>\n",
       "      <td>0</td>\n",
       "      <td>0</td>\n",
       "      <td>No Info</td>\n",
       "      <td>17.37</td>\n",
       "      <td>6.5</td>\n",
       "      <td>100</td>\n",
       "      <td>0</td>\n",
       "    </tr>\n",
       "    <tr>\n",
       "      <th>99997</th>\n",
       "      <td>Male</td>\n",
       "      <td>66.0</td>\n",
       "      <td>0</td>\n",
       "      <td>0</td>\n",
       "      <td>former</td>\n",
       "      <td>27.83</td>\n",
       "      <td>5.7</td>\n",
       "      <td>155</td>\n",
       "      <td>0</td>\n",
       "    </tr>\n",
       "    <tr>\n",
       "      <th>99998</th>\n",
       "      <td>Female</td>\n",
       "      <td>24.0</td>\n",
       "      <td>0</td>\n",
       "      <td>0</td>\n",
       "      <td>never</td>\n",
       "      <td>35.42</td>\n",
       "      <td>4.0</td>\n",
       "      <td>100</td>\n",
       "      <td>0</td>\n",
       "    </tr>\n",
       "    <tr>\n",
       "      <th>99999</th>\n",
       "      <td>Female</td>\n",
       "      <td>57.0</td>\n",
       "      <td>0</td>\n",
       "      <td>0</td>\n",
       "      <td>current</td>\n",
       "      <td>22.43</td>\n",
       "      <td>6.6</td>\n",
       "      <td>90</td>\n",
       "      <td>0</td>\n",
       "    </tr>\n",
       "  </tbody>\n",
       "</table>\n",
       "</div>"
      ],
      "text/plain": [
       "       gender   age  hypertension  heart_disease smoking_history    bmi  \\\n",
       "99990    Male  39.0             0              0         No Info  27.32   \n",
       "99991    Male  22.0             0              0         current  29.65   \n",
       "99992  Female  26.0             0              0           never  34.34   \n",
       "99993  Female  40.0             0              0           never  40.69   \n",
       "99994  Female  36.0             0              0         No Info  24.60   \n",
       "99995  Female  80.0             0              0         No Info  27.32   \n",
       "99996  Female   2.0             0              0         No Info  17.37   \n",
       "99997    Male  66.0             0              0          former  27.83   \n",
       "99998  Female  24.0             0              0           never  35.42   \n",
       "99999  Female  57.0             0              0         current  22.43   \n",
       "\n",
       "       HbA1c_level  blood_glucose_level  diabetes  \n",
       "99990          6.1                  100         0  \n",
       "99991          6.0                   80         0  \n",
       "99992          6.5                  160         0  \n",
       "99993          3.5                  155         0  \n",
       "99994          4.8                  145         0  \n",
       "99995          6.2                   90         0  \n",
       "99996          6.5                  100         0  \n",
       "99997          5.7                  155         0  \n",
       "99998          4.0                  100         0  \n",
       "99999          6.6                   90         0  "
      ]
     },
     "execution_count": 4,
     "metadata": {},
     "output_type": "execute_result"
    }
   ],
   "source": [
    "# show 10 data terakhir\n",
    "df.tail(10)"
   ]
  },
  {
   "cell_type": "code",
   "execution_count": 5,
   "metadata": {},
   "outputs": [
    {
     "name": "stdout",
     "output_type": "stream",
     "text": [
      "<class 'pandas.core.frame.DataFrame'>\n",
      "RangeIndex: 100000 entries, 0 to 99999\n",
      "Data columns (total 9 columns):\n",
      " #   Column               Non-Null Count   Dtype  \n",
      "---  ------               --------------   -----  \n",
      " 0   gender               100000 non-null  object \n",
      " 1   age                  100000 non-null  float64\n",
      " 2   hypertension         100000 non-null  int64  \n",
      " 3   heart_disease        100000 non-null  int64  \n",
      " 4   smoking_history      100000 non-null  object \n",
      " 5   bmi                  100000 non-null  float64\n",
      " 6   HbA1c_level          100000 non-null  float64\n",
      " 7   blood_glucose_level  100000 non-null  int64  \n",
      " 8   diabetes             100000 non-null  int64  \n",
      "dtypes: float64(3), int64(4), object(2)\n",
      "memory usage: 6.9+ MB\n"
     ]
    }
   ],
   "source": [
    "# Check Dataset 1\n",
    "df.info()"
   ]
  },
  {
   "cell_type": "markdown",
   "metadata": {},
   "source": [
    "Data tersebut memiliki:\n",
    "- 100000 baris data\n",
    "- 9 features\n",
    "- 3 kolom bertipe float, 4 kolom bertipe integer, dan 2 kolom bertipe object.\n",
    "\n",
    "Berdasarkan informasi data sebelumnya, feature numerik yaitu:\n",
    "1. `age`\n",
    "2. `BMI`\n",
    "3. `HbA1c_level`\n",
    "4. `blood_glucose_level`\n",
    "\n",
    "Sedangkan feature kategorik yaitu:\n",
    "1. `gender`\n",
    "2. `hypertension`\n",
    "3. `heart_disease`\n",
    "4. `smoking_history`\n",
    "\n",
    "Dan targetnya adalah `diabetes`"
   ]
  },
  {
   "cell_type": "code",
   "execution_count": 6,
   "metadata": {},
   "outputs": [
    {
     "data": {
      "text/plain": [
       "gender                 0\n",
       "age                    0\n",
       "hypertension           0\n",
       "heart_disease          0\n",
       "smoking_history        0\n",
       "bmi                    0\n",
       "HbA1c_level            0\n",
       "blood_glucose_level    0\n",
       "diabetes               0\n",
       "dtype: int64"
      ]
     },
     "execution_count": 6,
     "metadata": {},
     "output_type": "execute_result"
    }
   ],
   "source": [
    "# Check Dataset 2\n",
    "df.isnull().sum()"
   ]
  },
  {
   "cell_type": "markdown",
   "metadata": {},
   "source": [
    "Dari hasil tidak ada kolom yang memiliki missing value, namun akan diteliti lebih lanjut tiap value dalam kolomnya."
   ]
  },
  {
   "cell_type": "code",
   "execution_count": 7,
   "metadata": {},
   "outputs": [
    {
     "data": {
      "text/html": [
       "<div>\n",
       "<style scoped>\n",
       "    .dataframe tbody tr th:only-of-type {\n",
       "        vertical-align: middle;\n",
       "    }\n",
       "\n",
       "    .dataframe tbody tr th {\n",
       "        vertical-align: top;\n",
       "    }\n",
       "\n",
       "    .dataframe thead th {\n",
       "        text-align: right;\n",
       "    }\n",
       "</style>\n",
       "<table border=\"1\" class=\"dataframe\">\n",
       "  <thead>\n",
       "    <tr style=\"text-align: right;\">\n",
       "      <th></th>\n",
       "      <th>age</th>\n",
       "      <th>hypertension</th>\n",
       "      <th>heart_disease</th>\n",
       "      <th>bmi</th>\n",
       "      <th>HbA1c_level</th>\n",
       "      <th>blood_glucose_level</th>\n",
       "      <th>diabetes</th>\n",
       "    </tr>\n",
       "  </thead>\n",
       "  <tbody>\n",
       "    <tr>\n",
       "      <th>count</th>\n",
       "      <td>100000.000000</td>\n",
       "      <td>100000.00000</td>\n",
       "      <td>100000.000000</td>\n",
       "      <td>100000.000000</td>\n",
       "      <td>100000.000000</td>\n",
       "      <td>100000.000000</td>\n",
       "      <td>100000.000000</td>\n",
       "    </tr>\n",
       "    <tr>\n",
       "      <th>mean</th>\n",
       "      <td>41.885856</td>\n",
       "      <td>0.07485</td>\n",
       "      <td>0.039420</td>\n",
       "      <td>27.320767</td>\n",
       "      <td>5.527507</td>\n",
       "      <td>138.058060</td>\n",
       "      <td>0.085000</td>\n",
       "    </tr>\n",
       "    <tr>\n",
       "      <th>std</th>\n",
       "      <td>22.516840</td>\n",
       "      <td>0.26315</td>\n",
       "      <td>0.194593</td>\n",
       "      <td>6.636783</td>\n",
       "      <td>1.070672</td>\n",
       "      <td>40.708136</td>\n",
       "      <td>0.278883</td>\n",
       "    </tr>\n",
       "    <tr>\n",
       "      <th>min</th>\n",
       "      <td>0.080000</td>\n",
       "      <td>0.00000</td>\n",
       "      <td>0.000000</td>\n",
       "      <td>10.010000</td>\n",
       "      <td>3.500000</td>\n",
       "      <td>80.000000</td>\n",
       "      <td>0.000000</td>\n",
       "    </tr>\n",
       "    <tr>\n",
       "      <th>25%</th>\n",
       "      <td>24.000000</td>\n",
       "      <td>0.00000</td>\n",
       "      <td>0.000000</td>\n",
       "      <td>23.630000</td>\n",
       "      <td>4.800000</td>\n",
       "      <td>100.000000</td>\n",
       "      <td>0.000000</td>\n",
       "    </tr>\n",
       "    <tr>\n",
       "      <th>50%</th>\n",
       "      <td>43.000000</td>\n",
       "      <td>0.00000</td>\n",
       "      <td>0.000000</td>\n",
       "      <td>27.320000</td>\n",
       "      <td>5.800000</td>\n",
       "      <td>140.000000</td>\n",
       "      <td>0.000000</td>\n",
       "    </tr>\n",
       "    <tr>\n",
       "      <th>75%</th>\n",
       "      <td>60.000000</td>\n",
       "      <td>0.00000</td>\n",
       "      <td>0.000000</td>\n",
       "      <td>29.580000</td>\n",
       "      <td>6.200000</td>\n",
       "      <td>159.000000</td>\n",
       "      <td>0.000000</td>\n",
       "    </tr>\n",
       "    <tr>\n",
       "      <th>max</th>\n",
       "      <td>80.000000</td>\n",
       "      <td>1.00000</td>\n",
       "      <td>1.000000</td>\n",
       "      <td>95.690000</td>\n",
       "      <td>9.000000</td>\n",
       "      <td>300.000000</td>\n",
       "      <td>1.000000</td>\n",
       "    </tr>\n",
       "  </tbody>\n",
       "</table>\n",
       "</div>"
      ],
      "text/plain": [
       "                 age  hypertension  heart_disease            bmi  \\\n",
       "count  100000.000000  100000.00000  100000.000000  100000.000000   \n",
       "mean       41.885856       0.07485       0.039420      27.320767   \n",
       "std        22.516840       0.26315       0.194593       6.636783   \n",
       "min         0.080000       0.00000       0.000000      10.010000   \n",
       "25%        24.000000       0.00000       0.000000      23.630000   \n",
       "50%        43.000000       0.00000       0.000000      27.320000   \n",
       "75%        60.000000       0.00000       0.000000      29.580000   \n",
       "max        80.000000       1.00000       1.000000      95.690000   \n",
       "\n",
       "         HbA1c_level  blood_glucose_level       diabetes  \n",
       "count  100000.000000        100000.000000  100000.000000  \n",
       "mean        5.527507           138.058060       0.085000  \n",
       "std         1.070672            40.708136       0.278883  \n",
       "min         3.500000            80.000000       0.000000  \n",
       "25%         4.800000           100.000000       0.000000  \n",
       "50%         5.800000           140.000000       0.000000  \n",
       "75%         6.200000           159.000000       0.000000  \n",
       "max         9.000000           300.000000       1.000000  "
      ]
     },
     "execution_count": 7,
     "metadata": {},
     "output_type": "execute_result"
    }
   ],
   "source": [
    "# Check Dataset 3\n",
    "df.describe()"
   ]
  },
  {
   "cell_type": "markdown",
   "metadata": {},
   "source": [
    "Mendeskripsi data numerik sejumlah 7 kolom didapatkan nilai count, mean, std, min, 25%, 50%, 75%, dan max dengan rentang yang berbeda."
   ]
  },
  {
   "cell_type": "code",
   "execution_count": 8,
   "metadata": {},
   "outputs": [
    {
     "data": {
      "text/plain": [
       "age                   -0.051979\n",
       "hypertension           3.231296\n",
       "heart_disease          4.733872\n",
       "bmi                    1.043836\n",
       "HbA1c_level           -0.066854\n",
       "blood_glucose_level    0.821655\n",
       "diabetes               2.976217\n",
       "dtype: float64"
      ]
     },
     "execution_count": 8,
     "metadata": {},
     "output_type": "execute_result"
    }
   ],
   "source": [
    "# Memilih hanya kolom-kolom numerik\n",
    "numeric_data = df.select_dtypes(include=['int', 'float'])\n",
    "\n",
    "# Menampilkan nilai skew untuk setiap kolom numerik\n",
    "skewness = numeric_data.skew()\n",
    "\n",
    "skewness"
   ]
  },
  {
   "cell_type": "markdown",
   "metadata": {},
   "source": [
    "Dari hasil didapatkan beberapa kolom yang skew, diantaranya:\n",
    "- hypertension\n",
    "- heart_disease\n",
    "- bmi\n",
    "- blood_glucose_level"
   ]
  },
  {
   "cell_type": "markdown",
   "metadata": {},
   "source": [
    "# iv. Exploratory Data Analysis (EDA)\n",
    "> Bagian ini berisi eksplorasi data pada dataset diatas dengan menggunakan query, grouping, visualisasi sederhana, dan lain sebagainya."
   ]
  },
  {
   "cell_type": "markdown",
   "metadata": {},
   "source": [
    "## Melihat distribusi dan outlier pada kolom skew"
   ]
  },
  {
   "cell_type": "markdown",
   "metadata": {},
   "source": [
    "Karena pada perhitungan sebelumnya terdapat beberapa feature yang skew, perlu dilihat bagaimana distribusinya dan sebaran outliernya"
   ]
  },
  {
   "cell_type": "code",
   "execution_count": 9,
   "metadata": {},
   "outputs": [
    {
     "data": {
      "image/png": "[encoded data removed]",
      "text/plain": [
       "<Figure size 1500x1000 with 4 Axes>"
      ]
     },
     "metadata": {},
     "output_type": "display_data"
    }
   ],
   "source": [
    "# visualisasi 1: melihat distribusi dari feature yang skew\n",
    "kolom_outlier = ['hypertension', 'heart_disease', 'bmi', 'blood_glucose_level']\n",
    "\n",
    "# Membuat boxplot untuk setiap kolom dengan outlier\n",
    "plt.figure(figsize=(15, 10))\n",
    "for i, kolom in enumerate(kolom_outlier):\n",
    "    plt.subplot(4, 3, i+1)\n",
    "    plt.boxplot(df_ori[kolom])\n",
    "    plt.title(kolom)\n",
    "    plt.tight_layout()\n",
    "\n",
    "plt.show()"
   ]
  },
  {
   "cell_type": "markdown",
   "metadata": {},
   "source": [
    "Dari boxplot tersebut terlihat bahwa tidak begitu banyak outlier pada feature hypertension, heart_disease, dan blood_glucose_level. Hanya pada outlier feature BMI memang cukup banyak."
   ]
  },
  {
   "cell_type": "markdown",
   "metadata": {},
   "source": [
    "## Visualisasi Distribusi Diabetes (Target)"
   ]
  },
  {
   "cell_type": "code",
   "execution_count": 10,
   "metadata": {},
   "outputs": [
    {
     "data": {
      "image/png": "[encoded data removed]",
      "text/plain": [
       "<Figure size 640x480 with 1 Axes>"
      ]
     },
     "metadata": {},
     "output_type": "display_data"
    }
   ],
   "source": [
    "# Visualisasi 2: Distribusi Diabetes\n",
    "\n",
    "diabetes_counts = df_ori['diabetes'].value_counts()\n",
    "plt.bar(diabetes_counts.index, diabetes_counts.values, color=['lightgreen', 'lightcoral'])\n",
    "plt.xlabel('Diabetes')\n",
    "plt.ylabel('Jumlah')\n",
    "plt.title('Distribusi Diabetes')\n",
    "\n",
    "# Menambahkan nilai ke setiap bar\n",
    "for i, value in enumerate(diabetes_counts.values):\n",
    "    plt.text(i, value, str(value), ha='center', va='bottom')\n",
    "\n",
    "plt.xticks([0, 1], ['Tidak', 'Ya'])\n",
    "plt.show()"
   ]
  },
  {
   "cell_type": "markdown",
   "metadata": {},
   "source": [
    "Bar chart tersebut memperlihatkan bahwa data target memang imbalance yaitu pasien diabetes hanya 10% dari yang tidak diabetes pada dataset ini. Sehingga saya akan menggunakan metrik recall yang memang cocok untuk data imbalance."
   ]
  },
  {
   "cell_type": "markdown",
   "metadata": {},
   "source": [
    "## Visualisai Distribusi Usia Penderita Diabetes"
   ]
  },
  {
   "cell_type": "code",
   "execution_count": 11,
   "metadata": {},
   "outputs": [
    {
     "data": {
      "image/png": "[encoded data removed]",
      "text/plain": [
       "<Figure size 640x480 with 1 Axes>"
      ]
     },
     "metadata": {},
     "output_type": "display_data"
    }
   ],
   "source": [
    "# Visualisasi 3: Distribusi Usia Penderita Diabetes\n",
    "\n",
    "# Memfilter dataframe hanya untuk penderita diabetes\n",
    "diabetes_df = df_ori[df_ori['diabetes'] == 1]\n",
    "\n",
    "plt.hist(diabetes_df['age'], bins=20, color='skyblue', edgecolor='black')\n",
    "plt.xlabel('Usia')\n",
    "plt.ylabel('Frekuensi')\n",
    "plt.title('Distribusi Usia Penderita Diabetes')\n",
    "plt.show()"
   ]
  },
  {
   "cell_type": "markdown",
   "metadata": {},
   "source": [
    "Visualisasi tersebut menunjukkan bahwa penderita diabetes paling tinggi pada lansia yaitu >= 60 tahun dengan tingkat tertinggi pada rentang 75-80 tahun keatas."
   ]
  },
  {
   "cell_type": "markdown",
   "metadata": {},
   "source": [
    "## Hubungan antara Usia dan BMI"
   ]
  },
  {
   "cell_type": "code",
   "execution_count": 12,
   "metadata": {},
   "outputs": [
    {
     "data": {
      "image/png": "[encoded data removed]",
      "text/plain": [
       "<Figure size 640x480 with 1 Axes>"
      ]
     },
     "metadata": {},
     "output_type": "display_data"
    }
   ],
   "source": [
    "# Visualisasi 4: Hubungan antara Usia dan BMI\n",
    "\n",
    "plt.scatter(df_ori['age'], df_ori['bmi'], color='skyblue')\n",
    "plt.xlabel('Usia')\n",
    "plt.ylabel('BMI')\n",
    "plt.title('Hubungan antara Usia dan BMI')\n",
    "plt.show()"
   ]
  },
  {
   "cell_type": "markdown",
   "metadata": {},
   "source": [
    "Dari scatterplot terlihat bahwa sebagian besar orang memiliki BMI > 25 yang menunjukkan kelebihan berat badan dan masih banyak juga yang memiliki BMI > 30 sehingga termasuk obesitas. Dimana hal tersebut menandakan ukuran lemak tubuh diatas ambang normal dan dapat menyebabkan berbagai penyakit termasuk diabetes."
   ]
  },
  {
   "cell_type": "markdown",
   "metadata": {},
   "source": [
    "## Distribusi Hubungan Diabetes dan Hipertensi"
   ]
  },
  {
   "cell_type": "code",
   "execution_count": 13,
   "metadata": {},
   "outputs": [
    {
     "data": {
      "image/png": "[encoded data removed]",
      "text/plain": [
       "<Figure size 640x480 with 1 Axes>"
      ]
     },
     "metadata": {},
     "output_type": "display_data"
    }
   ],
   "source": [
    "# Visualisai 5: Distribusi Hubungan Diabetes dan Hipertensi\n",
    "\n",
    "diabetes_hypertension = df_ori.groupby(['diabetes', 'hypertension']).size().unstack()\n",
    "diabetes_hypertension.plot(kind='bar', stacked=True, color=['lightblue', 'lightgreen'])\n",
    "plt.xlabel('Diabetes')\n",
    "plt.ylabel('Jumlah')\n",
    "plt.title('Hubungan antara Diabetes dan Hipertensi')\n",
    "plt.xticks([0, 1], ['Tidak', 'Ya'], rotation=0)\n",
    "plt.legend(title='Hipertensi', loc='upper right')\n",
    "plt.show()"
   ]
  },
  {
   "cell_type": "markdown",
   "metadata": {},
   "source": [
    "Bar chart tersebut menunjukkan bahwa pada penderita diabetes, lebih dari 50% tidak menderita hipertensi."
   ]
  },
  {
   "cell_type": "markdown",
   "metadata": {},
   "source": [
    "## Distribusi BMI pada Penderita Diabetes"
   ]
  },
  {
   "cell_type": "code",
   "execution_count": 14,
   "metadata": {},
   "outputs": [
    {
     "data": {
      "image/png": "[encoded data removed]",
      "text/plain": [
       "<Figure size 640x480 with 1 Axes>"
      ]
     },
     "metadata": {},
     "output_type": "display_data"
    }
   ],
   "source": [
    "# Visualisai 6: Distribusi BMI Berdasarkan Status Diabetes\n",
    "bmi_diabetes = df_ori[df_ori['diabetes'] == 1]['bmi']\n",
    "plt.hist(bmi_diabetes, bins=20, color='lightcoral', edgecolor='black', alpha=0.7, label='Diabetes')\n",
    "\n",
    "plt.xlabel('BMI')\n",
    "plt.ylabel('Frekuensi')\n",
    "plt.title('Distribusi BMI Berdasarkan Status Diabetes')\n",
    "plt.legend()\n",
    "plt.show()"
   ]
  },
  {
   "cell_type": "markdown",
   "metadata": {},
   "source": [
    "Berdasarkan histogram tersebut, frekuensi BMI tertinggi pada penderita diabetes yaitu sekitar 27-30. Dimana pada rentang BMI tersebut sudah masuk dalam kategori overweight menuju obesitas."
   ]
  },
  {
   "cell_type": "markdown",
   "metadata": {},
   "source": [
    "## Distribusi Tingkat Glukosa Darah Penderita Diabetes"
   ]
  },
  {
   "cell_type": "code",
   "execution_count": 15,
   "metadata": {},
   "outputs": [
    {
     "data": {
      "image/png": "[encoded data removed]",
      "text/plain": [
       "<Figure size 800x600 with 1 Axes>"
      ]
     },
     "metadata": {},
     "output_type": "display_data"
    }
   ],
   "source": [
    "# Visualisasi 7: Distribusi Tingkat Glukosa Darah untuk Kasus Diabetes\n",
    "# Memfilter data untuk kasus diabetes\n",
    "diabetes_data = df_ori[df_ori['diabetes'] == 1]\n",
    "\n",
    "# Membuat histogram\n",
    "plt.figure(figsize=(8, 6))\n",
    "plt.hist(diabetes_data['blood_glucose_level'], bins=20, color='red', edgecolor='black', alpha=0.7)\n",
    "\n",
    "# Menambahkan label dan judul\n",
    "plt.xlabel('Tingkat Glukosa Darah')\n",
    "plt.ylabel('Frekuensi')\n",
    "plt.title('Distribusi Tingkat Glukosa Darah untuk Kasus Diabetes')\n",
    "\n",
    "# Menampilkan plot\n",
    "plt.show()"
   ]
  },
  {
   "cell_type": "markdown",
   "metadata": {},
   "source": [
    "Pada visualisasi tersebut, dapat dilihat bahwa frekuensi tertinggi tingkat glukosa darah pada penderita diabetes berada di sekitar rentang 150-160 dan tidak menunjukkan pola meningkat."
   ]
  },
  {
   "cell_type": "markdown",
   "metadata": {},
   "source": [
    "## Distribusi Penderita Diabetes Berdasarkan Gender"
   ]
  },
  {
   "cell_type": "code",
   "execution_count": 16,
   "metadata": {},
   "outputs": [
    {
     "data": {
      "image/png": "[encoded data removed]",
      "text/plain": [
       "<Figure size 800x600 with 1 Axes>"
      ]
     },
     "metadata": {},
     "output_type": "display_data"
    }
   ],
   "source": [
    "# Visualisasi 8: Distribusi Penderita Diabetes Berdasarkan Gender\n",
    "# Menghitung jumlah penderita diabetes berdasarkan gender\n",
    "diabetes_gender_counts = df_ori[df_ori['diabetes'] == 1]['gender'].value_counts()\n",
    "\n",
    "# Membuat pie chart\n",
    "plt.figure(figsize=(8, 6))\n",
    "plt.pie(diabetes_gender_counts, labels=diabetes_gender_counts.index, autopct='%1.1f%%', colors=['lightblue', 'lightcoral'])\n",
    "\n",
    "# Menambahkan label dan judul\n",
    "plt.title('Distribusi Penderita Diabetes Berdasarkan Gender')\n",
    "\n",
    "# Menampilkan pie chart\n",
    "plt.show()"
   ]
  },
  {
   "cell_type": "markdown",
   "metadata": {},
   "source": [
    "Berdasarkan pie chart tersebut, terlihat bahwa perempuan dengan angka 52,5% lebih banyak menderita diabetes dibandingkan laki-laki yang hanya sekitar 47,5%."
   ]
  },
  {
   "cell_type": "markdown",
   "metadata": {},
   "source": [
    "## Hubungan Usia, Gender, dan Riwayat Merokok"
   ]
  },
  {
   "cell_type": "code",
   "execution_count": 17,
   "metadata": {},
   "outputs": [
    {
     "data": {
      "image/png": "[encoded data removed]",
      "text/plain": [
       "<Figure size 1000x600 with 1 Axes>"
      ]
     },
     "metadata": {},
     "output_type": "display_data"
    }
   ],
   "source": [
    "# Visualisasi 9: Hubungan Usia, Gender, dan Riwayat Merokok\n",
    "# Mapping kategori smoking_history ke nilai numerik\n",
    "smoking_mapping = {\n",
    "    'not current': 1,\n",
    "    'former': 2,\n",
    "    'No Info': 3,\n",
    "    'current': 4,\n",
    "    'never': 5,\n",
    "    'ever': 6\n",
    "}\n",
    "\n",
    "# Mengaplikasikan mapping ke dalam kolom smoking_history\n",
    "df_ori['smoking_numeric'] = df_ori['smoking_history'].map(smoking_mapping)\n",
    "\n",
    "# Membuat scatter plot\n",
    "plt.figure(figsize=(10, 6))\n",
    "sns.scatterplot(data=df_ori, x='age', y='smoking_numeric', hue='gender', palette='coolwarm')\n",
    "\n",
    "# Menambahkan label dan judul\n",
    "plt.xlabel('Usia')\n",
    "plt.ylabel('Riwayat Merokok (Numeric)')\n",
    "plt.title('Hubungan Antara Usia, Gender, dan Riwayat Merokok')\n",
    "\n",
    "# Menampilkan plot\n",
    "plt.legend(title='Gender')\n",
    "plt.show()"
   ]
  },
  {
   "cell_type": "markdown",
   "metadata": {},
   "source": [
    "Dikarenakan terdapat value \"no info\" yang merupakan missing value, maka saya melakukan visualisasi ini agar melihat apakah terdapat pola tertentu. Namun, dari visualisasi tersebut terlihat di nomor 3(no info) tidak ada pola tertentu sehingga missing value tersebut merupakan MCAR (Missing Completely at Random)."
   ]
  },
  {
   "cell_type": "markdown",
   "metadata": {},
   "source": [
    "# v. Feature Engineering\n",
    "> Bagian ini berisi proses penyiapan data untuk proses pelatihan model, seperti pembagian data menjadi train-test, transformasi data (normalisasi, encoding, dll.), dan proses-proses lain yang dibutuhkan."
   ]
  },
  {
   "cell_type": "code",
   "execution_count": 18,
   "metadata": {},
   "outputs": [],
   "source": [
    "# membuat random_state agar selalu sama\n",
    "random_state = 3"
   ]
  },
  {
   "cell_type": "markdown",
   "metadata": {},
   "source": [
    "## Cek Duplikasi"
   ]
  },
  {
   "cell_type": "code",
   "execution_count": 19,
   "metadata": {},
   "outputs": [
    {
     "data": {
      "text/plain": [
       "3854"
      ]
     },
     "execution_count": 19,
     "metadata": {},
     "output_type": "execute_result"
    }
   ],
   "source": [
    "# cek duplikasi sebelum drop duplikasi\n",
    "df.duplicated().sum()"
   ]
  },
  {
   "cell_type": "code",
   "execution_count": 20,
   "metadata": {},
   "outputs": [],
   "source": [
    "# define dataframe untuk menghapus duplikasi\n",
    "df = df.drop_duplicates()"
   ]
  },
  {
   "cell_type": "code",
   "execution_count": 21,
   "metadata": {},
   "outputs": [
    {
     "data": {
      "text/plain": [
       "0"
      ]
     },
     "execution_count": 21,
     "metadata": {},
     "output_type": "execute_result"
    }
   ],
   "source": [
    "# cek setelah drop duplikasi\n",
    "df.duplicated().sum()"
   ]
  },
  {
   "cell_type": "markdown",
   "metadata": {},
   "source": [
    "Terdapat 3854 data duplikat sehingga harus didrop dan dicek kembali."
   ]
  },
  {
   "cell_type": "code",
   "execution_count": 22,
   "metadata": {},
   "outputs": [
    {
     "data": {
      "text/plain": [
       "(96146, 9)"
      ]
     },
     "execution_count": 22,
     "metadata": {},
     "output_type": "execute_result"
    }
   ],
   "source": [
    "df.shape"
   ]
  },
  {
   "cell_type": "markdown",
   "metadata": {},
   "source": [
    "Setelah di drop, data yang tadinya berjumlah 100.000 sekarang hanya berjumlah 96146."
   ]
  },
  {
   "cell_type": "markdown",
   "metadata": {},
   "source": [
    "## Split Features (X) dan target (y)"
   ]
  },
  {
   "cell_type": "code",
   "execution_count": 23,
   "metadata": {},
   "outputs": [
    {
     "data": {
      "text/html": [
       "<div>\n",
       "<style scoped>\n",
       "    .dataframe tbody tr th:only-of-type {\n",
       "        vertical-align: middle;\n",
       "    }\n",
       "\n",
       "    .dataframe tbody tr th {\n",
       "        vertical-align: top;\n",
       "    }\n",
       "\n",
       "    .dataframe thead th {\n",
       "        text-align: right;\n",
       "    }\n",
       "</style>\n",
       "<table border=\"1\" class=\"dataframe\">\n",
       "  <thead>\n",
       "    <tr style=\"text-align: right;\">\n",
       "      <th></th>\n",
       "      <th>gender</th>\n",
       "      <th>age</th>\n",
       "      <th>hypertension</th>\n",
       "      <th>heart_disease</th>\n",
       "      <th>smoking_history</th>\n",
       "      <th>bmi</th>\n",
       "      <th>HbA1c_level</th>\n",
       "      <th>blood_glucose_level</th>\n",
       "    </tr>\n",
       "  </thead>\n",
       "  <tbody>\n",
       "    <tr>\n",
       "      <th>0</th>\n",
       "      <td>Female</td>\n",
       "      <td>80.0</td>\n",
       "      <td>0</td>\n",
       "      <td>1</td>\n",
       "      <td>never</td>\n",
       "      <td>25.19</td>\n",
       "      <td>6.6</td>\n",
       "      <td>140</td>\n",
       "    </tr>\n",
       "    <tr>\n",
       "      <th>1</th>\n",
       "      <td>Female</td>\n",
       "      <td>54.0</td>\n",
       "      <td>0</td>\n",
       "      <td>0</td>\n",
       "      <td>No Info</td>\n",
       "      <td>27.32</td>\n",
       "      <td>6.6</td>\n",
       "      <td>80</td>\n",
       "    </tr>\n",
       "    <tr>\n",
       "      <th>2</th>\n",
       "      <td>Male</td>\n",
       "      <td>28.0</td>\n",
       "      <td>0</td>\n",
       "      <td>0</td>\n",
       "      <td>never</td>\n",
       "      <td>27.32</td>\n",
       "      <td>5.7</td>\n",
       "      <td>158</td>\n",
       "    </tr>\n",
       "    <tr>\n",
       "      <th>3</th>\n",
       "      <td>Female</td>\n",
       "      <td>36.0</td>\n",
       "      <td>0</td>\n",
       "      <td>0</td>\n",
       "      <td>current</td>\n",
       "      <td>23.45</td>\n",
       "      <td>5.0</td>\n",
       "      <td>155</td>\n",
       "    </tr>\n",
       "    <tr>\n",
       "      <th>4</th>\n",
       "      <td>Male</td>\n",
       "      <td>76.0</td>\n",
       "      <td>1</td>\n",
       "      <td>1</td>\n",
       "      <td>current</td>\n",
       "      <td>20.14</td>\n",
       "      <td>4.8</td>\n",
       "      <td>155</td>\n",
       "    </tr>\n",
       "    <tr>\n",
       "      <th>...</th>\n",
       "      <td>...</td>\n",
       "      <td>...</td>\n",
       "      <td>...</td>\n",
       "      <td>...</td>\n",
       "      <td>...</td>\n",
       "      <td>...</td>\n",
       "      <td>...</td>\n",
       "      <td>...</td>\n",
       "    </tr>\n",
       "    <tr>\n",
       "      <th>99994</th>\n",
       "      <td>Female</td>\n",
       "      <td>36.0</td>\n",
       "      <td>0</td>\n",
       "      <td>0</td>\n",
       "      <td>No Info</td>\n",
       "      <td>24.60</td>\n",
       "      <td>4.8</td>\n",
       "      <td>145</td>\n",
       "    </tr>\n",
       "    <tr>\n",
       "      <th>99996</th>\n",
       "      <td>Female</td>\n",
       "      <td>2.0</td>\n",
       "      <td>0</td>\n",
       "      <td>0</td>\n",
       "      <td>No Info</td>\n",
       "      <td>17.37</td>\n",
       "      <td>6.5</td>\n",
       "      <td>100</td>\n",
       "    </tr>\n",
       "    <tr>\n",
       "      <th>99997</th>\n",
       "      <td>Male</td>\n",
       "      <td>66.0</td>\n",
       "      <td>0</td>\n",
       "      <td>0</td>\n",
       "      <td>former</td>\n",
       "      <td>27.83</td>\n",
       "      <td>5.7</td>\n",
       "      <td>155</td>\n",
       "    </tr>\n",
       "    <tr>\n",
       "      <th>99998</th>\n",
       "      <td>Female</td>\n",
       "      <td>24.0</td>\n",
       "      <td>0</td>\n",
       "      <td>0</td>\n",
       "      <td>never</td>\n",
       "      <td>35.42</td>\n",
       "      <td>4.0</td>\n",
       "      <td>100</td>\n",
       "    </tr>\n",
       "    <tr>\n",
       "      <th>99999</th>\n",
       "      <td>Female</td>\n",
       "      <td>57.0</td>\n",
       "      <td>0</td>\n",
       "      <td>0</td>\n",
       "      <td>current</td>\n",
       "      <td>22.43</td>\n",
       "      <td>6.6</td>\n",
       "      <td>90</td>\n",
       "    </tr>\n",
       "  </tbody>\n",
       "</table>\n",
       "<p>96146 rows × 8 columns</p>\n",
       "</div>"
      ],
      "text/plain": [
       "       gender   age  hypertension  heart_disease smoking_history    bmi  \\\n",
       "0      Female  80.0             0              1           never  25.19   \n",
       "1      Female  54.0             0              0         No Info  27.32   \n",
       "2        Male  28.0             0              0           never  27.32   \n",
       "3      Female  36.0             0              0         current  23.45   \n",
       "4        Male  76.0             1              1         current  20.14   \n",
       "...       ...   ...           ...            ...             ...    ...   \n",
       "99994  Female  36.0             0              0         No Info  24.60   \n",
       "99996  Female   2.0             0              0         No Info  17.37   \n",
       "99997    Male  66.0             0              0          former  27.83   \n",
       "99998  Female  24.0             0              0           never  35.42   \n",
       "99999  Female  57.0             0              0         current  22.43   \n",
       "\n",
       "       HbA1c_level  blood_glucose_level  \n",
       "0              6.6                  140  \n",
       "1              6.6                   80  \n",
       "2              5.7                  158  \n",
       "3              5.0                  155  \n",
       "4              4.8                  155  \n",
       "...            ...                  ...  \n",
       "99994          4.8                  145  \n",
       "99996          6.5                  100  \n",
       "99997          5.7                  155  \n",
       "99998          4.0                  100  \n",
       "99999          6.6                   90  \n",
       "\n",
       "[96146 rows x 8 columns]"
      ]
     },
     "execution_count": 23,
     "metadata": {},
     "output_type": "execute_result"
    }
   ],
   "source": [
    "# Define features (X) dan target(Y) dimana X adalah features selain diabetes, karena diabetes menjadi target.\n",
    "\n",
    "X = df.drop('diabetes', axis = 1)\n",
    "y = df['diabetes']\n",
    "X"
   ]
  },
  {
   "cell_type": "markdown",
   "metadata": {},
   "source": [
    "Features (X) terdiri dari 8 kolom."
   ]
  },
  {
   "cell_type": "code",
   "execution_count": 24,
   "metadata": {},
   "outputs": [
    {
     "data": {
      "text/plain": [
       "(96146, 8)"
      ]
     },
     "execution_count": 24,
     "metadata": {},
     "output_type": "execute_result"
    }
   ],
   "source": [
    "# melihat shape dari features\n",
    "X.shape"
   ]
  },
  {
   "cell_type": "markdown",
   "metadata": {},
   "source": [
    "## Split Train and Test set"
   ]
  },
  {
   "cell_type": "code",
   "execution_count": 25,
   "metadata": {},
   "outputs": [
    {
     "name": "stdout",
     "output_type": "stream",
     "text": [
      "Train Size : (76916, 8)\n",
      "Test Size : (19230, 8)\n"
     ]
    },
    {
     "data": {
      "text/html": [
       "<div>\n",
       "<style scoped>\n",
       "    .dataframe tbody tr th:only-of-type {\n",
       "        vertical-align: middle;\n",
       "    }\n",
       "\n",
       "    .dataframe tbody tr th {\n",
       "        vertical-align: top;\n",
       "    }\n",
       "\n",
       "    .dataframe thead th {\n",
       "        text-align: right;\n",
       "    }\n",
       "</style>\n",
       "<table border=\"1\" class=\"dataframe\">\n",
       "  <thead>\n",
       "    <tr style=\"text-align: right;\">\n",
       "      <th></th>\n",
       "      <th>gender</th>\n",
       "      <th>age</th>\n",
       "      <th>hypertension</th>\n",
       "      <th>heart_disease</th>\n",
       "      <th>smoking_history</th>\n",
       "      <th>bmi</th>\n",
       "      <th>HbA1c_level</th>\n",
       "      <th>blood_glucose_level</th>\n",
       "    </tr>\n",
       "  </thead>\n",
       "  <tbody>\n",
       "    <tr>\n",
       "      <th>74230</th>\n",
       "      <td>Female</td>\n",
       "      <td>51.0</td>\n",
       "      <td>0</td>\n",
       "      <td>0</td>\n",
       "      <td>current</td>\n",
       "      <td>21.88</td>\n",
       "      <td>6.5</td>\n",
       "      <td>158</td>\n",
       "    </tr>\n",
       "    <tr>\n",
       "      <th>43583</th>\n",
       "      <td>Male</td>\n",
       "      <td>36.0</td>\n",
       "      <td>0</td>\n",
       "      <td>0</td>\n",
       "      <td>No Info</td>\n",
       "      <td>27.32</td>\n",
       "      <td>3.5</td>\n",
       "      <td>80</td>\n",
       "    </tr>\n",
       "    <tr>\n",
       "      <th>60180</th>\n",
       "      <td>Female</td>\n",
       "      <td>58.0</td>\n",
       "      <td>0</td>\n",
       "      <td>0</td>\n",
       "      <td>ever</td>\n",
       "      <td>38.55</td>\n",
       "      <td>3.5</td>\n",
       "      <td>100</td>\n",
       "    </tr>\n",
       "    <tr>\n",
       "      <th>17007</th>\n",
       "      <td>Male</td>\n",
       "      <td>37.0</td>\n",
       "      <td>0</td>\n",
       "      <td>0</td>\n",
       "      <td>current</td>\n",
       "      <td>30.65</td>\n",
       "      <td>6.1</td>\n",
       "      <td>85</td>\n",
       "    </tr>\n",
       "    <tr>\n",
       "      <th>51152</th>\n",
       "      <td>Male</td>\n",
       "      <td>43.0</td>\n",
       "      <td>0</td>\n",
       "      <td>0</td>\n",
       "      <td>No Info</td>\n",
       "      <td>27.32</td>\n",
       "      <td>4.8</td>\n",
       "      <td>126</td>\n",
       "    </tr>\n",
       "    <tr>\n",
       "      <th>...</th>\n",
       "      <td>...</td>\n",
       "      <td>...</td>\n",
       "      <td>...</td>\n",
       "      <td>...</td>\n",
       "      <td>...</td>\n",
       "      <td>...</td>\n",
       "      <td>...</td>\n",
       "      <td>...</td>\n",
       "    </tr>\n",
       "    <tr>\n",
       "      <th>49050</th>\n",
       "      <td>Female</td>\n",
       "      <td>78.0</td>\n",
       "      <td>0</td>\n",
       "      <td>1</td>\n",
       "      <td>No Info</td>\n",
       "      <td>16.34</td>\n",
       "      <td>5.0</td>\n",
       "      <td>90</td>\n",
       "    </tr>\n",
       "    <tr>\n",
       "      <th>60516</th>\n",
       "      <td>Male</td>\n",
       "      <td>45.0</td>\n",
       "      <td>0</td>\n",
       "      <td>0</td>\n",
       "      <td>current</td>\n",
       "      <td>26.48</td>\n",
       "      <td>6.5</td>\n",
       "      <td>126</td>\n",
       "    </tr>\n",
       "    <tr>\n",
       "      <th>79596</th>\n",
       "      <td>Female</td>\n",
       "      <td>51.0</td>\n",
       "      <td>0</td>\n",
       "      <td>0</td>\n",
       "      <td>not current</td>\n",
       "      <td>39.48</td>\n",
       "      <td>4.8</td>\n",
       "      <td>80</td>\n",
       "    </tr>\n",
       "    <tr>\n",
       "      <th>69189</th>\n",
       "      <td>Female</td>\n",
       "      <td>61.0</td>\n",
       "      <td>0</td>\n",
       "      <td>0</td>\n",
       "      <td>No Info</td>\n",
       "      <td>33.21</td>\n",
       "      <td>6.2</td>\n",
       "      <td>130</td>\n",
       "    </tr>\n",
       "    <tr>\n",
       "      <th>73730</th>\n",
       "      <td>Female</td>\n",
       "      <td>35.0</td>\n",
       "      <td>0</td>\n",
       "      <td>0</td>\n",
       "      <td>never</td>\n",
       "      <td>27.32</td>\n",
       "      <td>6.2</td>\n",
       "      <td>145</td>\n",
       "    </tr>\n",
       "  </tbody>\n",
       "</table>\n",
       "<p>76916 rows × 8 columns</p>\n",
       "</div>"
      ],
      "text/plain": [
       "       gender   age  hypertension  heart_disease smoking_history    bmi  \\\n",
       "74230  Female  51.0             0              0         current  21.88   \n",
       "43583    Male  36.0             0              0         No Info  27.32   \n",
       "60180  Female  58.0             0              0            ever  38.55   \n",
       "17007    Male  37.0             0              0         current  30.65   \n",
       "51152    Male  43.0             0              0         No Info  27.32   \n",
       "...       ...   ...           ...            ...             ...    ...   \n",
       "49050  Female  78.0             0              1         No Info  16.34   \n",
       "60516    Male  45.0             0              0         current  26.48   \n",
       "79596  Female  51.0             0              0     not current  39.48   \n",
       "69189  Female  61.0             0              0         No Info  33.21   \n",
       "73730  Female  35.0             0              0           never  27.32   \n",
       "\n",
       "       HbA1c_level  blood_glucose_level  \n",
       "74230          6.5                  158  \n",
       "43583          3.5                   80  \n",
       "60180          3.5                  100  \n",
       "17007          6.1                   85  \n",
       "51152          4.8                  126  \n",
       "...            ...                  ...  \n",
       "49050          5.0                   90  \n",
       "60516          6.5                  126  \n",
       "79596          4.8                   80  \n",
       "69189          6.2                  130  \n",
       "73730          6.2                  145  \n",
       "\n",
       "[76916 rows x 8 columns]"
      ]
     },
     "execution_count": 25,
     "metadata": {},
     "output_type": "execute_result"
    }
   ],
   "source": [
    "# split data train dan data test dengan 80% train set dan 20% test set\n",
    "X_train, X_test, y_train, y_test = train_test_split(X, y, test_size = 0.2, random_state = random_state)\n",
    "\n",
    "print('Train Size :', X_train.shape)\n",
    "print('Test Size :', X_test.shape)\n",
    "X_train"
   ]
  },
  {
   "cell_type": "markdown",
   "metadata": {},
   "source": [
    "Dengan pembagian 80% untuk train didapatkan data sebanyak 76916 baris dan 20% untuk test didapatkan data sebanyak 19230 baris."
   ]
  },
  {
   "cell_type": "markdown",
   "metadata": {},
   "source": [
    "## Handling Missing Value"
   ]
  },
  {
   "cell_type": "code",
   "execution_count": 26,
   "metadata": {},
   "outputs": [
    {
     "data": {
      "text/plain": [
       "gender                 0\n",
       "age                    0\n",
       "hypertension           0\n",
       "heart_disease          0\n",
       "smoking_history        0\n",
       "bmi                    0\n",
       "HbA1c_level            0\n",
       "blood_glucose_level    0\n",
       "dtype: int64"
      ]
     },
     "execution_count": 26,
     "metadata": {},
     "output_type": "execute_result"
    }
   ],
   "source": [
    "# melihat missing value X_train\n",
    "X_train.isnull().sum()"
   ]
  },
  {
   "cell_type": "code",
   "execution_count": 27,
   "metadata": {},
   "outputs": [
    {
     "data": {
      "text/plain": [
       "gender                 0\n",
       "age                    0\n",
       "hypertension           0\n",
       "heart_disease          0\n",
       "smoking_history        0\n",
       "bmi                    0\n",
       "HbA1c_level            0\n",
       "blood_glucose_level    0\n",
       "dtype: int64"
      ]
     },
     "execution_count": 27,
     "metadata": {},
     "output_type": "execute_result"
    }
   ],
   "source": [
    "# melihat missing value X_test\n",
    "X_test.isnull().sum()"
   ]
  },
  {
   "cell_type": "code",
   "execution_count": 28,
   "metadata": {},
   "outputs": [
    {
     "data": {
      "text/plain": [
       "0"
      ]
     },
     "execution_count": 28,
     "metadata": {},
     "output_type": "execute_result"
    }
   ],
   "source": [
    "# melihat missing value y_train\n",
    "y_train.isnull().sum()"
   ]
  },
  {
   "cell_type": "code",
   "execution_count": 29,
   "metadata": {},
   "outputs": [
    {
     "data": {
      "text/plain": [
       "0"
      ]
     },
     "execution_count": 29,
     "metadata": {},
     "output_type": "execute_result"
    }
   ],
   "source": [
    "# melihat missing value y_test\n",
    "y_test.isnull().sum()"
   ]
  },
  {
   "cell_type": "markdown",
   "metadata": {},
   "source": [
    "Tidak terdapat missing value. Namun, akan dicek setiap unique value agar dapat dipertimbangkan."
   ]
  },
  {
   "cell_type": "code",
   "execution_count": 30,
   "metadata": {},
   "outputs": [
    {
     "name": "stdout",
     "output_type": "stream",
     "text": [
      "Jenis value dalam feature gender terdiri dari:  gender\n",
      "Female    56161\n",
      "Male      39967\n",
      "Other        18\n",
      "Name: count, dtype: int64\n",
      "==================================================\n",
      "Jenis value dalam feature riwayat merokok terdiri dari:  smoking_history\n",
      "never          34398\n",
      "No Info        32887\n",
      "former          9299\n",
      "current         9197\n",
      "not current     6367\n",
      "ever            3998\n",
      "Name: count, dtype: int64\n"
     ]
    }
   ],
   "source": [
    "# print melihat value\n",
    "print(\"Jenis value dalam feature gender terdiri dari: \", df['gender'].value_counts())\n",
    "print(\"=\"*50)\n",
    "print(\"Jenis value dalam feature riwayat merokok terdiri dari: \", df['smoking_history'].value_counts())"
   ]
  },
  {
   "cell_type": "markdown",
   "metadata": {},
   "source": [
    "Namun, karena terdapat value \"Other\" pada feature gender dan value \"No Info\" dalam feature riwayat merokok. Maka perlu dihandling. Menurut saya, jenis missing value kedua nilai tersebut adalah MCAR, karena kedua value tersebut bersifat acak dan tidak terkait dengan nilai-nilai dari variabel lain dalam dataset. Sehingga untuk handlingnya, saya akan melakukan imputasi modus karena kedua feature bersifat kategorikal."
   ]
  },
  {
   "cell_type": "code",
   "execution_count": 31,
   "metadata": {},
   "outputs": [],
   "source": [
    "# Hitung modus untuk kolom 'gender'\n",
    "gender_mode = X_train['gender'].mode()[0]\n",
    "\n",
    "# Hitung modus untuk kolom 'smoking_history'\n",
    "smoking_mode = X_train['smoking_history'].mode()[0]\n",
    "\n",
    "# Mengganti nilai 'other' dengan modus pada kolom 'gender' di X_train dan X_test\n",
    "X_train['gender'] = X_train['gender'].replace('Other', gender_mode)\n",
    "X_test['gender'] = X_test['gender'].replace('Other', gender_mode)\n",
    "\n",
    "# Mengganti nilai 'no info' dengan modus pada kolom 'smoking_history' di X_train dan X_test\n",
    "X_train['smoking_history'] = X_train['smoking_history'].replace('No Info', smoking_mode)\n",
    "X_test['smoking_history'] = X_test['smoking_history'].replace('No Info', smoking_mode)"
   ]
  },
  {
   "cell_type": "code",
   "execution_count": 32,
   "metadata": {},
   "outputs": [
    {
     "name": "stdout",
     "output_type": "stream",
     "text": [
      "Pada X-Train\n",
      "Jenis value dalam feature gender terdiri dari:  gender\n",
      "Female    44826\n",
      "Male      32090\n",
      "Name: count, dtype: int64\n",
      "==================================================\n",
      "Jenis value dalam feature riwayat merokok terdiri dari:  smoking_history\n",
      "never          53791\n",
      "former          7480\n",
      "current         7370\n",
      "not current     5106\n",
      "ever            3169\n",
      "Name: count, dtype: int64\n",
      "==================================================\n",
      "Pada X-Test\n",
      "Jenis value dalam feature gender terdiri dari:  gender\n",
      "Female    44826\n",
      "Male      32090\n",
      "Name: count, dtype: int64\n",
      "==================================================\n",
      "Jenis value dalam feature riwayat merokok terdiri dari:  smoking_history\n",
      "never          53791\n",
      "former          7480\n",
      "current         7370\n",
      "not current     5106\n",
      "ever            3169\n",
      "Name: count, dtype: int64\n"
     ]
    }
   ],
   "source": [
    "# print untuk cek value setelah dihandling\n",
    "print(\"Pada X-Train\")\n",
    "print(\"Jenis value dalam feature gender terdiri dari: \", X_train['gender'].value_counts())\n",
    "print(\"=\"*50)\n",
    "print(\"Jenis value dalam feature riwayat merokok terdiri dari: \", X_train['smoking_history'].value_counts())\n",
    "print(\"=\"*50)\n",
    "print(\"Pada X-Test\")\n",
    "print(\"Jenis value dalam feature gender terdiri dari: \", X_train['gender'].value_counts())\n",
    "print(\"=\"*50)\n",
    "print(\"Jenis value dalam feature riwayat merokok terdiri dari: \", X_train['smoking_history'].value_counts())"
   ]
  },
  {
   "cell_type": "markdown",
   "metadata": {},
   "source": [
    "Dapat terlihat bahwa value 'other' dan 'no info' telah diatasi dengan nilai modus sehingga nilai tersebut sudah tidak ada."
   ]
  },
  {
   "cell_type": "code",
   "execution_count": 33,
   "metadata": {},
   "outputs": [
    {
     "name": "stdout",
     "output_type": "stream",
     "text": [
      "X Train Size : (76916, 8)\n",
      "X Test Size : (19230, 8)\n",
      "y Train Size : (76916,)\n",
      "y Test Size : (19230,)\n"
     ]
    }
   ],
   "source": [
    "# cek shape setelah handling missing value\n",
    "print('X Train Size :', X_train.shape)\n",
    "print('X Test Size :', X_test.shape)\n",
    "print('y Train Size :', y_train.shape)\n",
    "print('y Test Size :', y_test.shape)"
   ]
  },
  {
   "cell_type": "markdown",
   "metadata": {},
   "source": [
    "Setelah dicek kembali, shape tetap sesuai antara train dan test karena memang tidak dilakukan trimming."
   ]
  },
  {
   "cell_type": "markdown",
   "metadata": {},
   "source": [
    "## Handling Outlier"
   ]
  },
  {
   "cell_type": "code",
   "execution_count": 34,
   "metadata": {},
   "outputs": [
    {
     "data": {
      "text/plain": [
       "age                   -0.064880\n",
       "hypertension           3.135031\n",
       "heart_disease          4.632636\n",
       "bmi                    1.027043\n",
       "HbA1c_level           -0.048277\n",
       "blood_glucose_level    0.842009\n",
       "dtype: float64"
      ]
     },
     "execution_count": 34,
     "metadata": {},
     "output_type": "execute_result"
    }
   ],
   "source": [
    "# Memilih hanya kolom-kolom numerik berdasarkan tipe\n",
    "numeric_data = X_train.select_dtypes(include=['int', 'float'])\n",
    "\n",
    "# Menampilkan nilai skew untuk setiap kolom numerik\n",
    "skewness = numeric_data.skew()\n",
    "\n",
    "skewness"
   ]
  },
  {
   "cell_type": "markdown",
   "metadata": {},
   "source": [
    "Dari hasil tersebut, kolom yang memiliki skew ekstrem (>1 atau <-1) adalah:\n",
    "- hypertension (kategorikal)\n",
    "- heart_disease (kategorikal)\n",
    "- bmi\n",
    "\n",
    "Kolom yang memiliki skew biasa (0.5 s/d 1 atau -0.5 s/d -1) adalah:\n",
    "- blood_glucose_level\n",
    "\n",
    "Namun, saya tidak akan melakukan handling outlier pada feature kategorikal tersebut karena nilai outlier bersifat alami bukan karena kesalahan"
   ]
  },
  {
   "cell_type": "code",
   "execution_count": 35,
   "metadata": {},
   "outputs": [
    {
     "name": "stdout",
     "output_type": "stream",
     "text": [
      "       gender   age  hypertension  heart_disease smoking_history    bmi  \\\n",
      "74230  Female  51.0             0              0         current  21.88   \n",
      "43583    Male  36.0             0              0           never  27.32   \n",
      "60180  Female  58.0             0              0            ever  38.55   \n",
      "17007    Male  37.0             0              0         current  30.65   \n",
      "51152    Male  43.0             0              0           never  27.32   \n",
      "...       ...   ...           ...            ...             ...    ...   \n",
      "49050  Female  78.0             0              1           never  16.34   \n",
      "60516    Male  45.0             0              0         current  26.48   \n",
      "79596  Female  51.0             0              0     not current  39.48   \n",
      "69189  Female  61.0             0              0           never  33.21   \n",
      "73730  Female  35.0             0              0           never  27.32   \n",
      "\n",
      "       HbA1c_level  blood_glucose_level  \n",
      "74230          6.5                  158  \n",
      "43583          3.5                   80  \n",
      "60180          3.5                  100  \n",
      "17007          6.1                   85  \n",
      "51152          4.8                  126  \n",
      "...            ...                  ...  \n",
      "49050          5.0                   90  \n",
      "60516          6.5                  126  \n",
      "79596          4.8                   80  \n",
      "69189          6.2                  130  \n",
      "73730          6.2                  145  \n",
      "\n",
      "[76916 rows x 8 columns]\n"
     ]
    }
   ],
   "source": [
    "# KOLOM SKEW EKSTREM\n",
    "# Fungsi untuk mengganti nilai outlier dengan median\n",
    "def replace_outliers_with_median(data):\n",
    "    q1 = np.percentile(data, 25)\n",
    "    q3 = np.percentile(data, 75)\n",
    "    iqr = q3 - q1\n",
    "    lower_bound = q1 - 3 * iqr\n",
    "    upper_bound = q3 + 3 * iqr\n",
    "    median = np.median(data)\n",
    "    data = np.where((data < lower_bound) | (data > upper_bound), median, data)\n",
    "    return data\n",
    "\n",
    "# Loop melalui kolom-kolom yang perlu dicapping dengan median\n",
    "columns_to_cap_with_median = ['bmi']\n",
    "for col in columns_to_cap_with_median:\n",
    "    X_train[col] = replace_outliers_with_median(X_train[col])\n",
    "\n",
    "# Tampilkan DataFrame X_train setelah penggantian outlier \n",
    "print(X_train)"
   ]
  },
  {
   "cell_type": "code",
   "execution_count": 36,
   "metadata": {},
   "outputs": [
    {
     "name": "stdout",
     "output_type": "stream",
     "text": [
      "       gender   age  hypertension  heart_disease smoking_history    bmi  \\\n",
      "74230  Female  51.0             0              0         current  21.88   \n",
      "43583    Male  36.0             0              0           never  27.32   \n",
      "60180  Female  58.0             0              0            ever  38.55   \n",
      "17007    Male  37.0             0              0         current  30.65   \n",
      "51152    Male  43.0             0              0           never  27.32   \n",
      "...       ...   ...           ...            ...             ...    ...   \n",
      "49050  Female  78.0             0              1           never  16.34   \n",
      "60516    Male  45.0             0              0         current  26.48   \n",
      "79596  Female  51.0             0              0     not current  39.48   \n",
      "69189  Female  61.0             0              0           never  33.21   \n",
      "73730  Female  35.0             0              0           never  27.32   \n",
      "\n",
      "       HbA1c_level  blood_glucose_level  \n",
      "74230          6.5                158.0  \n",
      "43583          3.5                 80.0  \n",
      "60180          3.5                100.0  \n",
      "17007          6.1                 85.0  \n",
      "51152          4.8                126.0  \n",
      "...            ...                  ...  \n",
      "49050          5.0                 90.0  \n",
      "60516          6.5                126.0  \n",
      "79596          4.8                 80.0  \n",
      "69189          6.2                130.0  \n",
      "73730          6.2                145.0  \n",
      "\n",
      "[76916 rows x 8 columns]\n"
     ]
    }
   ],
   "source": [
    "# KOLOM SKEW BIASA\n",
    "# Fungsi untuk mengganti nilai outlier dengan median\n",
    "def replace_outliers_with_median(data):\n",
    "    q1 = np.percentile(data, 25)\n",
    "    q3 = np.percentile(data, 75)\n",
    "    iqr = q3 - q1\n",
    "    lower_bound = q1 - 1.5 * iqr\n",
    "    upper_bound = q3 + 1.5 * iqr\n",
    "    median = np.median(data)\n",
    "    data = np.where((data < lower_bound) | (data > upper_bound), median, data)\n",
    "    return data\n",
    "\n",
    "# Loop melalui kolom-kolom yang perlu dicapping dengan median\n",
    "columns_to_cap_with_median = ['blood_glucose_level']\n",
    "for col in columns_to_cap_with_median:\n",
    "    X_train[col] = replace_outliers_with_median(X_train[col])\n",
    "\n",
    "# Tampilkan DataFrame X_train setelah penggantian outlier \n",
    "print(X_train)"
   ]
  },
  {
   "cell_type": "code",
   "execution_count": 37,
   "metadata": {},
   "outputs": [
    {
     "data": {
      "text/plain": [
       "age                   -0.064880\n",
       "hypertension           3.135031\n",
       "heart_disease          4.632636\n",
       "bmi                    0.510208\n",
       "HbA1c_level           -0.048277\n",
       "blood_glucose_level    0.122095\n",
       "dtype: float64"
      ]
     },
     "execution_count": 37,
     "metadata": {},
     "output_type": "execute_result"
    }
   ],
   "source": [
    "# Memilih hanya kolom-kolom numerik\n",
    "numeric_data = X_train.select_dtypes(include=['int', 'float'])\n",
    "\n",
    "# Menampilkan nilai skew untuk setiap kolom numerik\n",
    "skewness = numeric_data.skew()\n",
    "\n",
    "skewness"
   ]
  },
  {
   "cell_type": "markdown",
   "metadata": {},
   "source": [
    "Ternyata setelah dihandle outlier, nilai skew pada kolom-kolom numerik yang sudah dihandling tersebut berubah mendekati normal dan bahkan sudah ada kolom yang berdistribusi normal. "
   ]
  },
  {
   "cell_type": "code",
   "execution_count": 38,
   "metadata": {},
   "outputs": [
    {
     "name": "stdout",
     "output_type": "stream",
     "text": [
      "X Train Size : (76916, 8)\n",
      "X Test Size : (19230, 8)\n",
      "y Train Size : (76916,)\n",
      "y Test Size : (19230,)\n"
     ]
    }
   ],
   "source": [
    "# melihat shape setelah handling outlier\n",
    "\n",
    "print('X Train Size :', X_train.shape)\n",
    "print('X Test Size :', X_test.shape)\n",
    "print('y Train Size :', y_train.shape)\n",
    "print('y Test Size :', y_test.shape)"
   ]
  },
  {
   "cell_type": "markdown",
   "metadata": {},
   "source": [
    "Shape x_train dan y_train setelah handling outlier adalah tetap sama."
   ]
  },
  {
   "cell_type": "markdown",
   "metadata": {},
   "source": [
    "## Feature Selection"
   ]
  },
  {
   "cell_type": "markdown",
   "metadata": {},
   "source": [
    "Uji korelasi menggunakan phik karena terdapat kolom numerik dan kategorik."
   ]
  },
  {
   "cell_type": "code",
   "execution_count": 39,
   "metadata": {},
   "outputs": [
    {
     "name": "stdout",
     "output_type": "stream",
     "text": [
      "gender                 0.059647\n",
      "age                    0.366096\n",
      "hypertension           0.307855\n",
      "heart_disease          0.261163\n",
      "smoking_history        0.087844\n",
      "bmi                    0.267021\n",
      "HbA1c_level            0.666820\n",
      "blood_glucose_level    0.435912\n",
      "diabetes               1.000000\n",
      "Name: diabetes, dtype: float64\n"
     ]
    }
   ],
   "source": [
    "# Menggabungkan X_train dengan y_train untuk menghitung korelasi\n",
    "train_set_fs = pd.concat([X_train, y_train], axis=1)\n",
    "\n",
    "# Menyatakan tipe data sebelum menjalankan phik correlation\n",
    "train_types_fs = {\n",
    "    \"gender\": \"categorical\",\n",
    "    \"age\": \"interval\",\n",
    "    \"hypertension\": \"categorical\",\n",
    "    \"heart_disease\": \"categorical\",\n",
    "    \"smoking_history\": \"ordinal\",\n",
    "    \"bmi\": \"interval\",\n",
    "    \"HbA1c_level\": \"interval\",\n",
    "    \"blood_glucose_level\": \"interval\",\n",
    "}\n",
    "\n",
    "# Memilih kolom interval yang akan digunakan untuk menghitung korelasi phi-k\n",
    "interval_cols = [col for col, v in train_types_fs.items() if v == 'interval']\n",
    "\n",
    "# Menghitung korelasi phi-k\n",
    "phik_corr = train_set_fs.phik_matrix(interval_cols=interval_cols)['diabetes']\n",
    "print(phik_corr)"
   ]
  },
  {
   "cell_type": "markdown",
   "metadata": {},
   "source": [
    "Meskipun terdapat beberapa feature yang nilai kroelasi phik < 0,1 yaitu gender dan smoking_history. Namun, saya akan tetap memasukkan feature gender dan smoking_history dengan alasan:\n",
    "- Diabetes, khususnya tipe 2, lebih banyak terjadi pada pria daripada wanita. Namun, wanita sering memiliki komplikasi lebih parah dan risiko lebih tinggi dari kematian (https://www.news-medical.net/health/Diabetes-in-Men-versus-Women.aspx)\n",
    "- Kebiasaan merokok dapat mempengaruhi risiko terkena diabetes, karena rokok memiliki lebih dari 7.000 bahan kimia, salah satunya nikotin yang bersifat sangat adiktif (https://health.kompas.com/read/23E31100000868/kebiasaan-merokok-dan-diabetes-yang-bahaya-untuk-kesehatan?page=all)\n",
    "\n",
    "Sehingga saya akan tetap memasukkan seluruh feature"
   ]
  },
  {
   "cell_type": "code",
   "execution_count": 40,
   "metadata": {},
   "outputs": [
    {
     "name": "stdout",
     "output_type": "stream",
     "text": [
      "X Train Size : (76916, 8)\n",
      "X Test Size : (19230, 8)\n",
      "y Train Size : (76916,)\n",
      "y Test Size : (19230,)\n"
     ]
    }
   ],
   "source": [
    "# cek shape setelah feature selection\n",
    "print('X Train Size :', X_train.shape)\n",
    "print('X Test Size :', X_test.shape)\n",
    "print('y Train Size :', y_train.shape)\n",
    "print('y Test Size :', y_test.shape)"
   ]
  },
  {
   "cell_type": "markdown",
   "metadata": {},
   "source": [
    "Setelah feature selection, jumlah feature tetap 8 karena tidak ada yang didrop."
   ]
  },
  {
   "cell_type": "markdown",
   "metadata": {},
   "source": [
    "## Cardinality Check"
   ]
  },
  {
   "cell_type": "code",
   "execution_count": 41,
   "metadata": {},
   "outputs": [
    {
     "name": "stdout",
     "output_type": "stream",
     "text": [
      "Unique Value pada kolom gender adalah: ['Female' 'Male']\n",
      "Unique Value pada kolom hypertension adalah: [0 1]\n",
      "Unique Value pada kolom heart_disease adalah: [0 1]\n",
      "Unique Value pada kolom smoking_history adalah: ['current' 'never' 'ever' 'former' 'not current']\n"
     ]
    }
   ],
   "source": [
    "# Cek unique value pada kolom kategorik \n",
    "print(\"Unique Value pada kolom gender adalah:\", X_train['gender'].unique())\n",
    "print(\"Unique Value pada kolom hypertension adalah:\", X_train['hypertension'].unique())\n",
    "print(\"Unique Value pada kolom heart_disease adalah:\", X_train['heart_disease'].unique())\n",
    "print(\"Unique Value pada kolom smoking_history adalah:\", X_train['smoking_history'].unique())"
   ]
  },
  {
   "cell_type": "markdown",
   "metadata": {},
   "source": [
    "Pada unique value berupa angka tidak akan dilakukan encoder. Pada feature gender dan smoking_history karena masih berupa string, maka akan dilakukan encoder. Saya juga akan menjelaskan bahwa setiap value di smoking_history memiliki perbedaan masing-masing sehingga tidak saya kurangi cardinalitynya.\n",
    "Berikut tingkatan smoking_history terhadap terjadinya penyakit diabetes:\n",
    "- 'former' (Mantan Perokok): Meskipun mereka telah berhenti merokok, mantan perokok mungkin masih memiliki risiko lebih tinggi untuk mengalami diabetes karena dampak merokok sebelumnya terhadap kesehatan mereka.\n",
    "- 'never' (Tidak Pernah Merokok): Orang yang tidak pernah merokok cenderung memiliki risiko lebih rendah untuk mengalami diabetes karena mereka tidak terpapar zat-zat berbahaya dalam rokok.\n",
    "- 'current' (Merokok Saat Ini): Orang yang sedang merokok cenderung memiliki risiko lebih tinggi untuk mengalami diabetes karena efek buruk dari merokok terhadap kesehatan.\n",
    "- 'ever' (Pernah Merokok): Orang yang pernah merokok, terlepas dari apakah mereka masih merokok atau tidak, masih memiliki risiko yang cukup tinggi untuk mengalami diabetes.\n",
    "- 'not current' (Tidak Merokok Saat Ini): Orang yang tidak merokok pada saat ini, termasuk mantan perokok dan yang tidak pernah merokok, mungkin memiliki risiko yang lebih rendah untuk mengalami diabetes, terutama jika mereka telah berhenti merokok dan menerapkan gaya hidup yang sehat. "
   ]
  },
  {
   "cell_type": "markdown",
   "metadata": {},
   "source": [
    "## Split numerical columns and categorical columns"
   ]
  },
  {
   "cell_type": "markdown",
   "metadata": {},
   "source": [
    "Saya melakukan 3 split karena pada feature kategorik akan dibedakan encodingnya."
   ]
  },
  {
   "cell_type": "code",
   "execution_count": 42,
   "metadata": {},
   "outputs": [
    {
     "name": "stdout",
     "output_type": "stream",
     "text": [
      "numerical columns= ['age', 'bmi', 'HbA1c_level', 'blood_glucose_level']\n",
      "categorical columns= ['gender']\n",
      "ordinal columns= ['smoking_history']\n"
     ]
    }
   ],
   "source": [
    "# define numerik dan kategorik features dari dataframe x_train yang sudah dihandle outlier berdasarkan tipe kolom\n",
    "# define numerik di x_train\n",
    "num_col = ['age', 'bmi', 'HbA1c_level', 'blood_glucose_level']\n",
    "\n",
    "# define kategorikal nominal\n",
    "cat_col_n = ['gender']\n",
    "\n",
    "# define kategorikal ordinal\n",
    "cat_col_o = ['smoking_history']\n",
    "\n",
    "# print\n",
    "print(f'numerical columns= {num_col}')\n",
    "print(f'categorical columns= {cat_col_n}')\n",
    "print(f'ordinal columns= {cat_col_o}')"
   ]
  },
  {
   "cell_type": "markdown",
   "metadata": {},
   "source": [
    "Saya menggunakan standard scaler karena feature numerik telah dihandling outliernya."
   ]
  },
  {
   "cell_type": "code",
   "execution_count": 43,
   "metadata": {},
   "outputs": [],
   "source": [
    "# Inisialisasi StandardScaler \n",
    "scaler = StandardScaler()\n",
    "\n",
    "# Inisialisasi OrdinalEncoder untuk kategori ordinal\n",
    "ordinal_encoder = OrdinalEncoder()\n",
    "\n",
    "# Inisialisasi OneHotEncoder untuk kategori nominal\n",
    "onehot_encoder = OneHotEncoder(handle_unknown='ignore')\n",
    "\n",
    "# Menggabungkan scaler dan encoder dalam ColumnTransformer\n",
    "preprocess = ColumnTransformer(\n",
    "    transformers=[\n",
    "        ('num', scaler, num_col),  # Melakukan scaling pada kolom numerik\n",
    "        ('ord', ordinal_encoder, cat_col_o),  # Melakukan encoding ordinal pada kolom ordinal\n",
    "        ('nom', onehot_encoder, cat_col_n),  # Melakukan one-hot encoding pada kolom nominal\n",
    "    ],\n",
    "    remainder='passthrough'  # Biarkan fitur-fitur lainnya tanpa perubahan\n",
    ")"
   ]
  },
  {
   "cell_type": "markdown",
   "metadata": {},
   "source": [
    "Pipeline Preprocess siap dimasukkan dalam model."
   ]
  },
  {
   "cell_type": "markdown",
   "metadata": {},
   "source": [
    "# vi. Model Definition\n",
    "> Bagian ini berisi cell untuk mendefinisikan model. Jelaskan alasan menggunakan suatu algoritma/model, hyperparameter yang dipakai, jenis penggunaan metrics yang dipakai, dan hal lain yang terkait dengan model."
   ]
  },
  {
   "cell_type": "markdown",
   "metadata": {},
   "source": [
    "Saya akan memilih boosting GradientBoostingClassifier karena:\n",
    "1. Kemampuan untuk menangani data yang kompleks: Gradient Boosting adalah salah satu metode ensemble yang kuat yang mampu menangani data yang kompleks dan fitur yang tidak linier dengan baik.\n",
    "2. Kinerja yang baik dalam berbagai jenis data: Gradient Boosting sering kali memberikan kinerja yang baik pada berbagai jenis dataset, termasuk dataset dengan fitur kategorikal, numerik, atau campuran dari keduanya.\n",
    "3. Kemampuan dalam menangani overfitting: Gradient Boosting cenderung memiliki kemampuan yang baik untuk mengatasi masalah overfitting, terutama ketika parameter model disetel dengan benar."
   ]
  },
  {
   "cell_type": "code",
   "execution_count": 44,
   "metadata": {},
   "outputs": [],
   "source": [
    "# Mendefinisikan model SVM, KNN, Decision Tree, Random Forest, dan Boosting dengan make_pipeline\n",
    "pipe_svm = make_pipeline(preprocess, SVC(random_state=random_state))\n",
    "pipe_knn = make_pipeline(preprocess, KNeighborsClassifier())\n",
    "pipe_dt = make_pipeline(preprocess, DecisionTreeClassifier(random_state=random_state))\n",
    "pipe_rf = make_pipeline(preprocess, RandomForestClassifier(random_state=random_state))\n",
    "pipe_gb = make_pipeline(preprocess, GradientBoostingClassifier(random_state=random_state))"
   ]
  },
  {
   "cell_type": "code",
   "execution_count": 45,
   "metadata": {},
   "outputs": [],
   "source": [
    "# Mendefinisikan skfold untuk diinput dalam cross validation setiap model\n",
    "skfold = StratifiedKFold(n_splits=5)"
   ]
  },
  {
   "cell_type": "code",
   "execution_count": 46,
   "metadata": {},
   "outputs": [],
   "source": [
    "# Melakukan cross validation untuk masing-masing model dengan metrik recall\n",
    "cv_svm_model = cross_val_score(pipe_svm, X_train, y_train, cv=skfold, scoring='recall', n_jobs=-1)\n",
    "cv_knn_model = cross_val_score(pipe_knn, X_train, y_train, cv=skfold, scoring='recall', n_jobs=-1)\n",
    "cv_dt_model = cross_val_score(pipe_dt, X_train, y_train, cv=skfold, scoring='recall', n_jobs=-1)\n",
    "cv_rf_model = cross_val_score(pipe_rf, X_train, y_train, cv=skfold, scoring='recall', n_jobs=-1)\n",
    "cv_gb_model = cross_val_score(pipe_gb, X_train, y_train, cv=skfold, scoring='recall', n_jobs=-1)"
   ]
  },
  {
   "cell_type": "code",
   "execution_count": 47,
   "metadata": {},
   "outputs": [
    {
     "name": "stdout",
     "output_type": "stream",
     "text": [
      "svm_model\n",
      "Recall Score - All - Cross Validation: [0.48867787 0.44152047 0.46311176 0.45361578 0.42658875]\n",
      "Recall Score - Mean - Cross Validation: 0.45470292483094765\n",
      "Recall Score - Std - Cross Validation: 0.020930222410932592\n",
      "Recall Score - Range of Test Set: 0.4337727024200151 - 0.4756331472418802\n",
      "--------------------------------------------------\n",
      "knn_model\n",
      "Recall Score - All - Cross Validation: [0.56172389 0.54897661 0.55807159 0.55807159 0.53177502]\n",
      "Recall Score - Mean - Cross Validation: 0.5517237365388148\n",
      "Recall Score - Std - Cross Validation: 0.010826739379652537\n",
      "Recall Score - Range of Test Set: 0.5408969971591623 - 0.5625504759184673\n",
      "--------------------------------------------------\n",
      "dt_model\n",
      "Recall Score - All - Cross Validation: [0.70051132 0.67251462 0.69028488 0.66325785 0.65230095]\n",
      "Recall Score - Mean - Cross Validation: 0.6757739247070684\n",
      "Recall Score - Std - Cross Validation: 0.01755427203201048\n",
      "Recall Score - Range of Test Set: 0.658219652675058 - 0.6933281967390789\n",
      "--------------------------------------------------\n",
      "rf_model\n",
      "Recall Score - All - Cross Validation: [0.6311176  0.60818713 0.63257852 0.60482104 0.60262966]\n",
      "Recall Score - Mean - Cross Validation: 0.6158667914002195\n",
      "Recall Score - Std - Cross Validation: 0.013176318606951681\n",
      "Recall Score - Range of Test Set: 0.6026904727932678 - 0.6290431100071712\n",
      "--------------------------------------------------\n",
      "gb_model\n",
      "Recall Score - All - Cross Validation: [0.62089116 0.61038012 0.63550037 0.61139518 0.60409058]\n",
      "Recall Score - Mean - Cross Validation: 0.6164514799294316\n",
      "Recall Score - Std - Cross Validation: 0.010934261296336734\n",
      "Recall Score - Range of Test Set: 0.6055172186330948 - 0.6273857412257684\n",
      "--------------------------------------------------\n",
      "Best Model: dt_model\n",
      "Cross Val Mean from Best Model: 0.6757739247070684\n"
     ]
    }
   ],
   "source": [
    "# Finding Best Model based on Cross_Val_Score (mean)\n",
    "name_model = []\n",
    "cv_scores = 0\n",
    "for cv, name in zip([cv_svm_model, cv_knn_model, cv_dt_model, cv_rf_model, cv_gb_model],\n",
    "                    ['svm_model', 'knn_model', 'dt_model', 'rf_model', 'gb_model']):\n",
    "    print(name)\n",
    "    print('Recall Score - All - Cross Validation:', cv)\n",
    "    print('Recall Score - Mean - Cross Validation:', cv.mean())\n",
    "    print('Recall Score - Std - Cross Validation:', cv.std())\n",
    "    print('Recall Score - Range of Test Set:', (cv.mean() - cv.std()), '-', (cv.mean() + cv.std()))\n",
    "    print('-' * 50)\n",
    "    if cv.mean() > cv_scores:\n",
    "        cv_scores = cv.mean()\n",
    "        name_model = name\n",
    "    else:\n",
    "        pass\n",
    "\n",
    "print('Best Model:', name_model)\n",
    "print('Cross Val Mean from Best Model:', cv_scores)"
   ]
  },
  {
   "cell_type": "markdown",
   "metadata": {},
   "source": [
    "Setelah dilakukan cross validation pada kelima model, model terbaik berdasarkan mean cross validation adalah dt_model yang selanjutnya akan ditrain dan dievaluasi menggunakan metrik klasifikasi Recall."
   ]
  },
  {
   "cell_type": "markdown",
   "metadata": {},
   "source": [
    "# vii. Model Training\n",
    "> Cell pada bagian ini hanya berisi code untuk melatih model dan output yang dihasilkan. Lakukan beberapa kali proses training dengan hyperparameter yang berbeda untuk melihat hasil yang didapatkan. Analisis dan narasikan hasil ini pada bagian Model Evaluation."
   ]
  },
  {
   "cell_type": "code",
   "execution_count": 48,
   "metadata": {},
   "outputs": [
    {
     "data": {
      "text/html": [
       "<style>#sk-container-id-1 {color: black;}#sk-container-id-1 pre{padding: 0;}#sk-container-id-1 div.sk-toggleable {background-color: white;}#sk-container-id-1 label.sk-toggleable__label {cursor: pointer;display: block;width: 100%;margin-bottom: 0;padding: 0.3em;box-sizing: border-box;text-align: center;}#sk-container-id-1 label.sk-toggleable__label-arrow:before {content: \"▸\";float: left;margin-right: 0.25em;color: #696969;}#sk-container-id-1 label.sk-toggleable__label-arrow:hover:before {color: black;}#sk-container-id-1 div.sk-estimator:hover label.sk-toggleable__label-arrow:before {color: black;}#sk-container-id-1 div.sk-toggleable__content {max-height: 0;max-width: 0;overflow: hidden;text-align: left;background-color: #f0f8ff;}#sk-container-id-1 div.sk-toggleable__content pre {margin: 0.2em;color: black;border-radius: 0.25em;background-color: #f0f8ff;}#sk-container-id-1 input.sk-toggleable__control:checked~div.sk-toggleable__content {max-height: 200px;max-width: 100%;overflow: auto;}#sk-container-id-1 input.sk-toggleable__control:checked~label.sk-toggleable__label-arrow:before {content: \"▾\";}#sk-container-id-1 div.sk-estimator input.sk-toggleable__control:checked~label.sk-toggleable__label {background-color: #d4ebff;}#sk-container-id-1 div.sk-label input.sk-toggleable__control:checked~label.sk-toggleable__label {background-color: #d4ebff;}#sk-container-id-1 input.sk-hidden--visually {border: 0;clip: rect(1px 1px 1px 1px);clip: rect(1px, 1px, 1px, 1px);height: 1px;margin: -1px;overflow: hidden;padding: 0;position: absolute;width: 1px;}#sk-container-id-1 div.sk-estimator {font-family: monospace;background-color: #f0f8ff;border: 1px dotted black;border-radius: 0.25em;box-sizing: border-box;margin-bottom: 0.5em;}#sk-container-id-1 div.sk-estimator:hover {background-color: #d4ebff;}#sk-container-id-1 div.sk-parallel-item::after {content: \"\";width: 100%;border-bottom: 1px solid gray;flex-grow: 1;}#sk-container-id-1 div.sk-label:hover label.sk-toggleable__label {background-color: #d4ebff;}#sk-container-id-1 div.sk-serial::before {content: \"\";position: absolute;border-left: 1px solid gray;box-sizing: border-box;top: 0;bottom: 0;left: 50%;z-index: 0;}#sk-container-id-1 div.sk-serial {display: flex;flex-direction: column;align-items: center;background-color: white;padding-right: 0.2em;padding-left: 0.2em;position: relative;}#sk-container-id-1 div.sk-item {position: relative;z-index: 1;}#sk-container-id-1 div.sk-parallel {display: flex;align-items: stretch;justify-content: center;background-color: white;position: relative;}#sk-container-id-1 div.sk-item::before, #sk-container-id-1 div.sk-parallel-item::before {content: \"\";position: absolute;border-left: 1px solid gray;box-sizing: border-box;top: 0;bottom: 0;left: 50%;z-index: -1;}#sk-container-id-1 div.sk-parallel-item {display: flex;flex-direction: column;z-index: 1;position: relative;background-color: white;}#sk-container-id-1 div.sk-parallel-item:first-child::after {align-self: flex-end;width: 50%;}#sk-container-id-1 div.sk-parallel-item:last-child::after {align-self: flex-start;width: 50%;}#sk-container-id-1 div.sk-parallel-item:only-child::after {width: 0;}#sk-container-id-1 div.sk-dashed-wrapped {border: 1px dashed gray;margin: 0 0.4em 0.5em 0.4em;box-sizing: border-box;padding-bottom: 0.4em;background-color: white;}#sk-container-id-1 div.sk-label label {font-family: monospace;font-weight: bold;display: inline-block;line-height: 1.2em;}#sk-container-id-1 div.sk-label-container {text-align: center;}#sk-container-id-1 div.sk-container {/* jupyter's `normalize.less` sets `[hidden] { display: none; }` but bootstrap.min.css set `[hidden] { display: none !important; }` so we also need the `!important` here to be able to override the default hidden behavior on the sphinx rendered scikit-learn.org. See: https://github.com/scikit-learn/scikit-learn/issues/21755 */display: inline-block !important;position: relative;}#sk-container-id-1 div.sk-text-repr-fallback {display: none;}</style><div id=\"sk-container-id-1\" class=\"sk-top-container\"><div class=\"sk-text-repr-fallback\"><pre>Pipeline(steps=[(&#x27;columntransformer&#x27;,\n",
       "                 ColumnTransformer(remainder=&#x27;passthrough&#x27;,\n",
       "                                   transformers=[(&#x27;num&#x27;, StandardScaler(),\n",
       "                                                  [&#x27;age&#x27;, &#x27;bmi&#x27;, &#x27;HbA1c_level&#x27;,\n",
       "                                                   &#x27;blood_glucose_level&#x27;]),\n",
       "                                                 (&#x27;ord&#x27;, OrdinalEncoder(),\n",
       "                                                  [&#x27;smoking_history&#x27;]),\n",
       "                                                 (&#x27;nom&#x27;,\n",
       "                                                  OneHotEncoder(handle_unknown=&#x27;ignore&#x27;),\n",
       "                                                  [&#x27;gender&#x27;])])),\n",
       "                (&#x27;decisiontreeclassifier&#x27;,\n",
       "                 DecisionTreeClassifier(random_state=3))])</pre><b>In a Jupyter environment, please rerun this cell to show the HTML representation or trust the notebook. <br />On GitHub, the HTML representation is unable to render, please try loading this page with nbviewer.org.</b></div><div class=\"sk-container\" hidden><div class=\"sk-item sk-dashed-wrapped\"><div class=\"sk-label-container\"><div class=\"sk-label sk-toggleable\"><input class=\"sk-toggleable__control sk-hidden--visually\" id=\"sk-estimator-id-1\" type=\"checkbox\" ><label for=\"sk-estimator-id-1\" class=\"sk-toggleable__label sk-toggleable__label-arrow\">Pipeline</label><div class=\"sk-toggleable__content\"><pre>Pipeline(steps=[(&#x27;columntransformer&#x27;,\n",
       "                 ColumnTransformer(remainder=&#x27;passthrough&#x27;,\n",
       "                                   transformers=[(&#x27;num&#x27;, StandardScaler(),\n",
       "                                                  [&#x27;age&#x27;, &#x27;bmi&#x27;, &#x27;HbA1c_level&#x27;,\n",
       "                                                   &#x27;blood_glucose_level&#x27;]),\n",
       "                                                 (&#x27;ord&#x27;, OrdinalEncoder(),\n",
       "                                                  [&#x27;smoking_history&#x27;]),\n",
       "                                                 (&#x27;nom&#x27;,\n",
       "                                                  OneHotEncoder(handle_unknown=&#x27;ignore&#x27;),\n",
       "                                                  [&#x27;gender&#x27;])])),\n",
       "                (&#x27;decisiontreeclassifier&#x27;,\n",
       "                 DecisionTreeClassifier(random_state=3))])</pre></div></div></div><div class=\"sk-serial\"><div class=\"sk-item sk-dashed-wrapped\"><div class=\"sk-label-container\"><div class=\"sk-label sk-toggleable\"><input class=\"sk-toggleable__control sk-hidden--visually\" id=\"sk-estimator-id-2\" type=\"checkbox\" ><label for=\"sk-estimator-id-2\" class=\"sk-toggleable__label sk-toggleable__label-arrow\">columntransformer: ColumnTransformer</label><div class=\"sk-toggleable__content\"><pre>ColumnTransformer(remainder=&#x27;passthrough&#x27;,\n",
       "                  transformers=[(&#x27;num&#x27;, StandardScaler(),\n",
       "                                 [&#x27;age&#x27;, &#x27;bmi&#x27;, &#x27;HbA1c_level&#x27;,\n",
       "                                  &#x27;blood_glucose_level&#x27;]),\n",
       "                                (&#x27;ord&#x27;, OrdinalEncoder(), [&#x27;smoking_history&#x27;]),\n",
       "                                (&#x27;nom&#x27;, OneHotEncoder(handle_unknown=&#x27;ignore&#x27;),\n",
       "                                 [&#x27;gender&#x27;])])</pre></div></div></div><div class=\"sk-parallel\"><div class=\"sk-parallel-item\"><div class=\"sk-item\"><div class=\"sk-label-container\"><div class=\"sk-label sk-toggleable\"><input class=\"sk-toggleable__control sk-hidden--visually\" id=\"sk-estimator-id-3\" type=\"checkbox\" ><label for=\"sk-estimator-id-3\" class=\"sk-toggleable__label sk-toggleable__label-arrow\">num</label><div class=\"sk-toggleable__content\"><pre>[&#x27;age&#x27;, &#x27;bmi&#x27;, &#x27;HbA1c_level&#x27;, &#x27;blood_glucose_level&#x27;]</pre></div></div></div><div class=\"sk-serial\"><div class=\"sk-item\"><div class=\"sk-estimator sk-toggleable\"><input class=\"sk-toggleable__control sk-hidden--visually\" id=\"sk-estimator-id-4\" type=\"checkbox\" ><label for=\"sk-estimator-id-4\" class=\"sk-toggleable__label sk-toggleable__label-arrow\">StandardScaler</label><div class=\"sk-toggleable__content\"><pre>StandardScaler()</pre></div></div></div></div></div></div><div class=\"sk-parallel-item\"><div class=\"sk-item\"><div class=\"sk-label-container\"><div class=\"sk-label sk-toggleable\"><input class=\"sk-toggleable__control sk-hidden--visually\" id=\"sk-estimator-id-5\" type=\"checkbox\" ><label for=\"sk-estimator-id-5\" class=\"sk-toggleable__label sk-toggleable__label-arrow\">ord</label><div class=\"sk-toggleable__content\"><pre>[&#x27;smoking_history&#x27;]</pre></div></div></div><div class=\"sk-serial\"><div class=\"sk-item\"><div class=\"sk-estimator sk-toggleable\"><input class=\"sk-toggleable__control sk-hidden--visually\" id=\"sk-estimator-id-6\" type=\"checkbox\" ><label for=\"sk-estimator-id-6\" class=\"sk-toggleable__label sk-toggleable__label-arrow\">OrdinalEncoder</label><div class=\"sk-toggleable__content\"><pre>OrdinalEncoder()</pre></div></div></div></div></div></div><div class=\"sk-parallel-item\"><div class=\"sk-item\"><div class=\"sk-label-container\"><div class=\"sk-label sk-toggleable\"><input class=\"sk-toggleable__control sk-hidden--visually\" id=\"sk-estimator-id-7\" type=\"checkbox\" ><label for=\"sk-estimator-id-7\" class=\"sk-toggleable__label sk-toggleable__label-arrow\">nom</label><div class=\"sk-toggleable__content\"><pre>[&#x27;gender&#x27;]</pre></div></div></div><div class=\"sk-serial\"><div class=\"sk-item\"><div class=\"sk-estimator sk-toggleable\"><input class=\"sk-toggleable__control sk-hidden--visually\" id=\"sk-estimator-id-8\" type=\"checkbox\" ><label for=\"sk-estimator-id-8\" class=\"sk-toggleable__label sk-toggleable__label-arrow\">OneHotEncoder</label><div class=\"sk-toggleable__content\"><pre>OneHotEncoder(handle_unknown=&#x27;ignore&#x27;)</pre></div></div></div></div></div></div><div class=\"sk-parallel-item\"><div class=\"sk-item\"><div class=\"sk-label-container\"><div class=\"sk-label sk-toggleable\"><input class=\"sk-toggleable__control sk-hidden--visually\" id=\"sk-estimator-id-9\" type=\"checkbox\" ><label for=\"sk-estimator-id-9\" class=\"sk-toggleable__label sk-toggleable__label-arrow\">remainder</label><div class=\"sk-toggleable__content\"><pre>[&#x27;hypertension&#x27;, &#x27;heart_disease&#x27;]</pre></div></div></div><div class=\"sk-serial\"><div class=\"sk-item\"><div class=\"sk-estimator sk-toggleable\"><input class=\"sk-toggleable__control sk-hidden--visually\" id=\"sk-estimator-id-10\" type=\"checkbox\" ><label for=\"sk-estimator-id-10\" class=\"sk-toggleable__label sk-toggleable__label-arrow\">passthrough</label><div class=\"sk-toggleable__content\"><pre>passthrough</pre></div></div></div></div></div></div></div></div><div class=\"sk-item\"><div class=\"sk-estimator sk-toggleable\"><input class=\"sk-toggleable__control sk-hidden--visually\" id=\"sk-estimator-id-11\" type=\"checkbox\" ><label for=\"sk-estimator-id-11\" class=\"sk-toggleable__label sk-toggleable__label-arrow\">DecisionTreeClassifier</label><div class=\"sk-toggleable__content\"><pre>DecisionTreeClassifier(random_state=3)</pre></div></div></div></div></div></div></div>"
      ],
      "text/plain": [
       "Pipeline(steps=[('columntransformer',\n",
       "                 ColumnTransformer(remainder='passthrough',\n",
       "                                   transformers=[('num', StandardScaler(),\n",
       "                                                  ['age', 'bmi', 'HbA1c_level',\n",
       "                                                   'blood_glucose_level']),\n",
       "                                                 ('ord', OrdinalEncoder(),\n",
       "                                                  ['smoking_history']),\n",
       "                                                 ('nom',\n",
       "                                                  OneHotEncoder(handle_unknown='ignore'),\n",
       "                                                  ['gender'])])),\n",
       "                ('decisiontreeclassifier',\n",
       "                 DecisionTreeClassifier(random_state=3))])"
      ]
     },
     "execution_count": 48,
     "metadata": {},
     "output_type": "execute_result"
    }
   ],
   "source": [
    "# Training best model (DT)\n",
    "pipe_dt.fit(X_train, y_train)"
   ]
  },
  {
   "cell_type": "markdown",
   "metadata": {},
   "source": [
    "Training best model (dt) pada data train sebelum dilakukan model evaluasi."
   ]
  },
  {
   "cell_type": "markdown",
   "metadata": {},
   "source": [
    "# viii. Model Evaluation\n",
    "> Pada bagian ini, dilakukan evaluasi model yang harus menunjukkan bagaimana performa model berdasarkan metrics yang dipilih. Hal ini harus dibuktikan dengan visualisasi tren performa dan/atau tingkat kesalahan model. Lakukan analisis terkait dengan hasil pada model dan tuliskan hasil analisisnya."
   ]
  },
  {
   "cell_type": "markdown",
   "metadata": {},
   "source": [
    "## Predict Train dan Test Sebelum Tuning"
   ]
  },
  {
   "cell_type": "code",
   "execution_count": 49,
   "metadata": {},
   "outputs": [
    {
     "name": "stdout",
     "output_type": "stream",
     "text": [
      "Recall Score - Train Set  :  0.9830508474576272 \n",
      "\n",
      "Classification Report : \n",
      "               precision    recall  f1-score   support\n",
      "\n",
      "           0       1.00      1.00      1.00     70072\n",
      "           1       1.00      0.98      0.99      6844\n",
      "\n",
      "    accuracy                           1.00     76916\n",
      "   macro avg       1.00      0.99      1.00     76916\n",
      "weighted avg       1.00      1.00      1.00     76916\n",
      " \n",
      "\n",
      "Confusion Matrix      : \n",
      " <sklearn.metrics._plot.confusion_matrix.ConfusionMatrixDisplay object at 0x000001D2C0DB1250>\n"
     ]
    },
    {
     "data": {
      "image/png": "[encoded data removed]",
      "text/plain": [
       "<Figure size 640x480 with 2 Axes>"
      ]
     },
     "metadata": {},
     "output_type": "display_data"
    }
   ],
   "source": [
    "# Check Performance Model against Train-Set\n",
    "y_pred_train = pipe_dt.predict(X_train)\n",
    "\n",
    "print('Recall Score - Train Set  : ', recall_score(y_train, y_pred_train), '\\n')\n",
    "print('Classification Report : \\n', classification_report(y_train, y_pred_train), '\\n')\n",
    "print('Confusion Matrix      : \\n', ConfusionMatrixDisplay.from_estimator(pipe_dt, X_train, y_train, cmap='Reds'))"
   ]
  },
  {
   "cell_type": "markdown",
   "metadata": {},
   "source": [
    "Recall score pada train set sebelum tuning menunjukkan angka 0.98 dan angka FN yang didapatkan sebesar 116.\n",
    "Dengan mendapatkan recall score sebesar 0.98 pada train set dengan hyperparameter default dan jumlah False Negatives sebanyak 116, ini menunjukkan bahwa model Decision Tree cukup baik dalam mengidentifikasi sebagian besar kasus positif (diabetes) yang sebenarnya (True Positives) dari total kasus positif yang ada di dalam dataset."
   ]
  },
  {
   "cell_type": "code",
   "execution_count": 50,
   "metadata": {},
   "outputs": [
    {
     "name": "stdout",
     "output_type": "stream",
     "text": [
      "Recall Score - Test Set   :  0.7564102564102564 \n",
      "\n",
      "Classification Report : \n",
      "               precision    recall  f1-score   support\n",
      "\n",
      "           0       0.98      0.97      0.97     17592\n",
      "           1       0.67      0.76      0.71      1638\n",
      "\n",
      "    accuracy                           0.95     19230\n",
      "   macro avg       0.83      0.86      0.84     19230\n",
      "weighted avg       0.95      0.95      0.95     19230\n",
      " \n",
      "\n",
      "Confusion Matrix      : \n",
      " <sklearn.metrics._plot.confusion_matrix.ConfusionMatrixDisplay object at 0x000001D2C0E09B10>\n"
     ]
    },
    {
     "data": {
      "image/png": "[encoded data removed]",
      "text/plain": [
       "<Figure size 640x480 with 2 Axes>"
      ]
     },
     "metadata": {},
     "output_type": "display_data"
    }
   ],
   "source": [
    "# Check Test-Set\n",
    "y_pred_test = pipe_dt.predict(X_test)\n",
    "\n",
    "print('Recall Score - Test Set   : ', recall_score(y_test, y_pred_test), '\\n')\n",
    "print('Classification Report : \\n', classification_report(y_test, y_pred_test), '\\n')\n",
    "print('Confusion Matrix      : \\n', ConfusionMatrixDisplay.from_estimator(pipe_dt, X_test, y_test, cmap='Reds'))"
   ]
  },
  {
   "cell_type": "markdown",
   "metadata": {},
   "source": [
    "Namun, saat predict di train-set skor recall hanya 0.76 dengan FN 399. \n",
    "FN 399 mengacu pada jumlah prediksi model yang salah ketika model memprediksi bahwa pasien tidak memiliki diabetes (kelas negatif), padahal sebenarnya mereka memiliki diabetes (kelas positif). FN mengindikasikan kasus di mana model tidak mengidentifikasi dengan benar pasien yang seharusnya dinyatakan positif terhadap diabetes, yang dapat berdampak buruk pada pasien yang tidak mendapatkan diagnosis atau perawatan yang tepat. Sehingga dapat dikatakan model masih overfitting dan perlu dilakukan hyperparameter tuning untuk meningkatkan performa."
   ]
  },
  {
   "cell_type": "code",
   "execution_count": 51,
   "metadata": {},
   "outputs": [
    {
     "data": {
      "text/html": [
       "<div>\n",
       "<style scoped>\n",
       "    .dataframe tbody tr th:only-of-type {\n",
       "        vertical-align: middle;\n",
       "    }\n",
       "\n",
       "    .dataframe tbody tr th {\n",
       "        vertical-align: top;\n",
       "    }\n",
       "\n",
       "    .dataframe thead th {\n",
       "        text-align: right;\n",
       "    }\n",
       "</style>\n",
       "<table border=\"1\" class=\"dataframe\">\n",
       "  <thead>\n",
       "    <tr style=\"text-align: right;\">\n",
       "      <th></th>\n",
       "      <th>Baseline (Default Hyperparameter)</th>\n",
       "    </tr>\n",
       "  </thead>\n",
       "  <tbody>\n",
       "    <tr>\n",
       "      <th>test - recall_score</th>\n",
       "      <td>0.756410</td>\n",
       "    </tr>\n",
       "    <tr>\n",
       "      <th>train - recall_score</th>\n",
       "      <td>0.983051</td>\n",
       "    </tr>\n",
       "  </tbody>\n",
       "</table>\n",
       "</div>"
      ],
      "text/plain": [
       "                      Baseline (Default Hyperparameter)\n",
       "test - recall_score                            0.756410\n",
       "train - recall_score                           0.983051"
      ]
     },
     "execution_count": 51,
     "metadata": {},
     "output_type": "execute_result"
    }
   ],
   "source": [
    "# Save Classification Report into a Dictionary\n",
    "\n",
    "all_reports = {}\n",
    "def performance_report(all_reports, y_train, y_pred_train, y_test, y_pred_test, name):\n",
    "  score_reports = {\n",
    "      'train - recall_score' : recall_score(y_train, y_pred_train),\n",
    "      'test - recall_score' : recall_score(y_test, y_pred_test),\n",
    "  }\n",
    "  all_reports[name] = score_reports\n",
    "  return all_reports\n",
    "\n",
    "all_reports = performance_report(all_reports, y_train, y_pred_train, y_test, y_pred_test, 'Baseline (Default Hyperparameter)')\n",
    "pd.DataFrame(all_reports)"
   ]
  },
  {
   "cell_type": "markdown",
   "metadata": {},
   "source": [
    "Berikut adalah proses model evaluasi dengan menggunakan metrik klasifikasi Recall. Model dt yang dilakukan menggunakan default hyperparameter yang hanya menghasilkan Recall Score pada train sebesar 0.98 dan Recall score pada test sebesar 0.75. Model ini masih terbilang overfit karena score yang dihasilkan pada train tinggi, namun pada test cukup rendah. Sehingga perlu dilakukan hyperparameter tuning."
   ]
  },
  {
   "cell_type": "markdown",
   "metadata": {},
   "source": [
    "## Hyperparameter Tuning Best Model\n",
    "> Menggunakan Random Search agar lebih mudah dan cepat"
   ]
  },
  {
   "cell_type": "code",
   "execution_count": 52,
   "metadata": {},
   "outputs": [
    {
     "data": {
      "text/html": [
       "<style>#sk-container-id-2 {color: black;}#sk-container-id-2 pre{padding: 0;}#sk-container-id-2 div.sk-toggleable {background-color: white;}#sk-container-id-2 label.sk-toggleable__label {cursor: pointer;display: block;width: 100%;margin-bottom: 0;padding: 0.3em;box-sizing: border-box;text-align: center;}#sk-container-id-2 label.sk-toggleable__label-arrow:before {content: \"▸\";float: left;margin-right: 0.25em;color: #696969;}#sk-container-id-2 label.sk-toggleable__label-arrow:hover:before {color: black;}#sk-container-id-2 div.sk-estimator:hover label.sk-toggleable__label-arrow:before {color: black;}#sk-container-id-2 div.sk-toggleable__content {max-height: 0;max-width: 0;overflow: hidden;text-align: left;background-color: #f0f8ff;}#sk-container-id-2 div.sk-toggleable__content pre {margin: 0.2em;color: black;border-radius: 0.25em;background-color: #f0f8ff;}#sk-container-id-2 input.sk-toggleable__control:checked~div.sk-toggleable__content {max-height: 200px;max-width: 100%;overflow: auto;}#sk-container-id-2 input.sk-toggleable__control:checked~label.sk-toggleable__label-arrow:before {content: \"▾\";}#sk-container-id-2 div.sk-estimator input.sk-toggleable__control:checked~label.sk-toggleable__label {background-color: #d4ebff;}#sk-container-id-2 div.sk-label input.sk-toggleable__control:checked~label.sk-toggleable__label {background-color: #d4ebff;}#sk-container-id-2 input.sk-hidden--visually {border: 0;clip: rect(1px 1px 1px 1px);clip: rect(1px, 1px, 1px, 1px);height: 1px;margin: -1px;overflow: hidden;padding: 0;position: absolute;width: 1px;}#sk-container-id-2 div.sk-estimator {font-family: monospace;background-color: #f0f8ff;border: 1px dotted black;border-radius: 0.25em;box-sizing: border-box;margin-bottom: 0.5em;}#sk-container-id-2 div.sk-estimator:hover {background-color: #d4ebff;}#sk-container-id-2 div.sk-parallel-item::after {content: \"\";width: 100%;border-bottom: 1px solid gray;flex-grow: 1;}#sk-container-id-2 div.sk-label:hover label.sk-toggleable__label {background-color: #d4ebff;}#sk-container-id-2 div.sk-serial::before {content: \"\";position: absolute;border-left: 1px solid gray;box-sizing: border-box;top: 0;bottom: 0;left: 50%;z-index: 0;}#sk-container-id-2 div.sk-serial {display: flex;flex-direction: column;align-items: center;background-color: white;padding-right: 0.2em;padding-left: 0.2em;position: relative;}#sk-container-id-2 div.sk-item {position: relative;z-index: 1;}#sk-container-id-2 div.sk-parallel {display: flex;align-items: stretch;justify-content: center;background-color: white;position: relative;}#sk-container-id-2 div.sk-item::before, #sk-container-id-2 div.sk-parallel-item::before {content: \"\";position: absolute;border-left: 1px solid gray;box-sizing: border-box;top: 0;bottom: 0;left: 50%;z-index: -1;}#sk-container-id-2 div.sk-parallel-item {display: flex;flex-direction: column;z-index: 1;position: relative;background-color: white;}#sk-container-id-2 div.sk-parallel-item:first-child::after {align-self: flex-end;width: 50%;}#sk-container-id-2 div.sk-parallel-item:last-child::after {align-self: flex-start;width: 50%;}#sk-container-id-2 div.sk-parallel-item:only-child::after {width: 0;}#sk-container-id-2 div.sk-dashed-wrapped {border: 1px dashed gray;margin: 0 0.4em 0.5em 0.4em;box-sizing: border-box;padding-bottom: 0.4em;background-color: white;}#sk-container-id-2 div.sk-label label {font-family: monospace;font-weight: bold;display: inline-block;line-height: 1.2em;}#sk-container-id-2 div.sk-label-container {text-align: center;}#sk-container-id-2 div.sk-container {/* jupyter's `normalize.less` sets `[hidden] { display: none; }` but bootstrap.min.css set `[hidden] { display: none !important; }` so we also need the `!important` here to be able to override the default hidden behavior on the sphinx rendered scikit-learn.org. See: https://github.com/scikit-learn/scikit-learn/issues/21755 */display: inline-block !important;position: relative;}#sk-container-id-2 div.sk-text-repr-fallback {display: none;}</style><div id=\"sk-container-id-2\" class=\"sk-top-container\"><div class=\"sk-text-repr-fallback\"><pre>RandomizedSearchCV(cv=5,\n",
       "                   estimator=Pipeline(steps=[(&#x27;columntransformer&#x27;,\n",
       "                                              ColumnTransformer(remainder=&#x27;passthrough&#x27;,\n",
       "                                                                transformers=[(&#x27;num&#x27;,\n",
       "                                                                               StandardScaler(),\n",
       "                                                                               [&#x27;age&#x27;,\n",
       "                                                                                &#x27;bmi&#x27;,\n",
       "                                                                                &#x27;HbA1c_level&#x27;,\n",
       "                                                                                &#x27;blood_glucose_level&#x27;]),\n",
       "                                                                              (&#x27;ord&#x27;,\n",
       "                                                                               OrdinalEncoder(),\n",
       "                                                                               [&#x27;smoking_history&#x27;]),\n",
       "                                                                              (&#x27;nom&#x27;,\n",
       "                                                                               OneHotEncoder(handle_unknown=&#x27;ignore&#x27;),\n",
       "                                                                               [&#x27;gender&#x27;])])),\n",
       "                                             (&#x27;decisiontreeclassifier&#x27;,\n",
       "                                              DecisionTreeClas...3))]),\n",
       "                   param_distributions={&#x27;decisiontreeclassifier__max_depth&#x27;: [None,\n",
       "                                                                              10,\n",
       "                                                                              20,\n",
       "                                                                              30,\n",
       "                                                                              40,\n",
       "                                                                              50],\n",
       "                                        &#x27;decisiontreeclassifier__min_samples_leaf&#x27;: &lt;scipy.stats._distn_infrastructure.rv_discrete_frozen object at 0x000001D2C0DC8DD0&gt;,\n",
       "                                        &#x27;decisiontreeclassifier__min_samples_split&#x27;: &lt;scipy.stats._distn_infrastructure.rv_discrete_frozen object at 0x000001D2C0E0BE50&gt;},\n",
       "                   random_state=3)</pre><b>In a Jupyter environment, please rerun this cell to show the HTML representation or trust the notebook. <br />On GitHub, the HTML representation is unable to render, please try loading this page with nbviewer.org.</b></div><div class=\"sk-container\" hidden><div class=\"sk-item sk-dashed-wrapped\"><div class=\"sk-label-container\"><div class=\"sk-label sk-toggleable\"><input class=\"sk-toggleable__control sk-hidden--visually\" id=\"sk-estimator-id-12\" type=\"checkbox\" ><label for=\"sk-estimator-id-12\" class=\"sk-toggleable__label sk-toggleable__label-arrow\">RandomizedSearchCV</label><div class=\"sk-toggleable__content\"><pre>RandomizedSearchCV(cv=5,\n",
       "                   estimator=Pipeline(steps=[(&#x27;columntransformer&#x27;,\n",
       "                                              ColumnTransformer(remainder=&#x27;passthrough&#x27;,\n",
       "                                                                transformers=[(&#x27;num&#x27;,\n",
       "                                                                               StandardScaler(),\n",
       "                                                                               [&#x27;age&#x27;,\n",
       "                                                                                &#x27;bmi&#x27;,\n",
       "                                                                                &#x27;HbA1c_level&#x27;,\n",
       "                                                                                &#x27;blood_glucose_level&#x27;]),\n",
       "                                                                              (&#x27;ord&#x27;,\n",
       "                                                                               OrdinalEncoder(),\n",
       "                                                                               [&#x27;smoking_history&#x27;]),\n",
       "                                                                              (&#x27;nom&#x27;,\n",
       "                                                                               OneHotEncoder(handle_unknown=&#x27;ignore&#x27;),\n",
       "                                                                               [&#x27;gender&#x27;])])),\n",
       "                                             (&#x27;decisiontreeclassifier&#x27;,\n",
       "                                              DecisionTreeClas...3))]),\n",
       "                   param_distributions={&#x27;decisiontreeclassifier__max_depth&#x27;: [None,\n",
       "                                                                              10,\n",
       "                                                                              20,\n",
       "                                                                              30,\n",
       "                                                                              40,\n",
       "                                                                              50],\n",
       "                                        &#x27;decisiontreeclassifier__min_samples_leaf&#x27;: &lt;scipy.stats._distn_infrastructure.rv_discrete_frozen object at 0x000001D2C0DC8DD0&gt;,\n",
       "                                        &#x27;decisiontreeclassifier__min_samples_split&#x27;: &lt;scipy.stats._distn_infrastructure.rv_discrete_frozen object at 0x000001D2C0E0BE50&gt;},\n",
       "                   random_state=3)</pre></div></div></div><div class=\"sk-parallel\"><div class=\"sk-parallel-item\"><div class=\"sk-item\"><div class=\"sk-label-container\"><div class=\"sk-label sk-toggleable\"><input class=\"sk-toggleable__control sk-hidden--visually\" id=\"sk-estimator-id-13\" type=\"checkbox\" ><label for=\"sk-estimator-id-13\" class=\"sk-toggleable__label sk-toggleable__label-arrow\">estimator: Pipeline</label><div class=\"sk-toggleable__content\"><pre>Pipeline(steps=[(&#x27;columntransformer&#x27;,\n",
       "                 ColumnTransformer(remainder=&#x27;passthrough&#x27;,\n",
       "                                   transformers=[(&#x27;num&#x27;, StandardScaler(),\n",
       "                                                  [&#x27;age&#x27;, &#x27;bmi&#x27;, &#x27;HbA1c_level&#x27;,\n",
       "                                                   &#x27;blood_glucose_level&#x27;]),\n",
       "                                                 (&#x27;ord&#x27;, OrdinalEncoder(),\n",
       "                                                  [&#x27;smoking_history&#x27;]),\n",
       "                                                 (&#x27;nom&#x27;,\n",
       "                                                  OneHotEncoder(handle_unknown=&#x27;ignore&#x27;),\n",
       "                                                  [&#x27;gender&#x27;])])),\n",
       "                (&#x27;decisiontreeclassifier&#x27;,\n",
       "                 DecisionTreeClassifier(random_state=3))])</pre></div></div></div><div class=\"sk-serial\"><div class=\"sk-item\"><div class=\"sk-serial\"><div class=\"sk-item sk-dashed-wrapped\"><div class=\"sk-label-container\"><div class=\"sk-label sk-toggleable\"><input class=\"sk-toggleable__control sk-hidden--visually\" id=\"sk-estimator-id-14\" type=\"checkbox\" ><label for=\"sk-estimator-id-14\" class=\"sk-toggleable__label sk-toggleable__label-arrow\">columntransformer: ColumnTransformer</label><div class=\"sk-toggleable__content\"><pre>ColumnTransformer(remainder=&#x27;passthrough&#x27;,\n",
       "                  transformers=[(&#x27;num&#x27;, StandardScaler(),\n",
       "                                 [&#x27;age&#x27;, &#x27;bmi&#x27;, &#x27;HbA1c_level&#x27;,\n",
       "                                  &#x27;blood_glucose_level&#x27;]),\n",
       "                                (&#x27;ord&#x27;, OrdinalEncoder(), [&#x27;smoking_history&#x27;]),\n",
       "                                (&#x27;nom&#x27;, OneHotEncoder(handle_unknown=&#x27;ignore&#x27;),\n",
       "                                 [&#x27;gender&#x27;])])</pre></div></div></div><div class=\"sk-parallel\"><div class=\"sk-parallel-item\"><div class=\"sk-item\"><div class=\"sk-label-container\"><div class=\"sk-label sk-toggleable\"><input class=\"sk-toggleable__control sk-hidden--visually\" id=\"sk-estimator-id-15\" type=\"checkbox\" ><label for=\"sk-estimator-id-15\" class=\"sk-toggleable__label sk-toggleable__label-arrow\">num</label><div class=\"sk-toggleable__content\"><pre>[&#x27;age&#x27;, &#x27;bmi&#x27;, &#x27;HbA1c_level&#x27;, &#x27;blood_glucose_level&#x27;]</pre></div></div></div><div class=\"sk-serial\"><div class=\"sk-item\"><div class=\"sk-estimator sk-toggleable\"><input class=\"sk-toggleable__control sk-hidden--visually\" id=\"sk-estimator-id-16\" type=\"checkbox\" ><label for=\"sk-estimator-id-16\" class=\"sk-toggleable__label sk-toggleable__label-arrow\">StandardScaler</label><div class=\"sk-toggleable__content\"><pre>StandardScaler()</pre></div></div></div></div></div></div><div class=\"sk-parallel-item\"><div class=\"sk-item\"><div class=\"sk-label-container\"><div class=\"sk-label sk-toggleable\"><input class=\"sk-toggleable__control sk-hidden--visually\" id=\"sk-estimator-id-17\" type=\"checkbox\" ><label for=\"sk-estimator-id-17\" class=\"sk-toggleable__label sk-toggleable__label-arrow\">ord</label><div class=\"sk-toggleable__content\"><pre>[&#x27;smoking_history&#x27;]</pre></div></div></div><div class=\"sk-serial\"><div class=\"sk-item\"><div class=\"sk-estimator sk-toggleable\"><input class=\"sk-toggleable__control sk-hidden--visually\" id=\"sk-estimator-id-18\" type=\"checkbox\" ><label for=\"sk-estimator-id-18\" class=\"sk-toggleable__label sk-toggleable__label-arrow\">OrdinalEncoder</label><div class=\"sk-toggleable__content\"><pre>OrdinalEncoder()</pre></div></div></div></div></div></div><div class=\"sk-parallel-item\"><div class=\"sk-item\"><div class=\"sk-label-container\"><div class=\"sk-label sk-toggleable\"><input class=\"sk-toggleable__control sk-hidden--visually\" id=\"sk-estimator-id-19\" type=\"checkbox\" ><label for=\"sk-estimator-id-19\" class=\"sk-toggleable__label sk-toggleable__label-arrow\">nom</label><div class=\"sk-toggleable__content\"><pre>[&#x27;gender&#x27;]</pre></div></div></div><div class=\"sk-serial\"><div class=\"sk-item\"><div class=\"sk-estimator sk-toggleable\"><input class=\"sk-toggleable__control sk-hidden--visually\" id=\"sk-estimator-id-20\" type=\"checkbox\" ><label for=\"sk-estimator-id-20\" class=\"sk-toggleable__label sk-toggleable__label-arrow\">OneHotEncoder</label><div class=\"sk-toggleable__content\"><pre>OneHotEncoder(handle_unknown=&#x27;ignore&#x27;)</pre></div></div></div></div></div></div><div class=\"sk-parallel-item\"><div class=\"sk-item\"><div class=\"sk-label-container\"><div class=\"sk-label sk-toggleable\"><input class=\"sk-toggleable__control sk-hidden--visually\" id=\"sk-estimator-id-21\" type=\"checkbox\" ><label for=\"sk-estimator-id-21\" class=\"sk-toggleable__label sk-toggleable__label-arrow\">remainder</label><div class=\"sk-toggleable__content\"><pre>[&#x27;hypertension&#x27;, &#x27;heart_disease&#x27;]</pre></div></div></div><div class=\"sk-serial\"><div class=\"sk-item\"><div class=\"sk-estimator sk-toggleable\"><input class=\"sk-toggleable__control sk-hidden--visually\" id=\"sk-estimator-id-22\" type=\"checkbox\" ><label for=\"sk-estimator-id-22\" class=\"sk-toggleable__label sk-toggleable__label-arrow\">passthrough</label><div class=\"sk-toggleable__content\"><pre>passthrough</pre></div></div></div></div></div></div></div></div><div class=\"sk-item\"><div class=\"sk-estimator sk-toggleable\"><input class=\"sk-toggleable__control sk-hidden--visually\" id=\"sk-estimator-id-23\" type=\"checkbox\" ><label for=\"sk-estimator-id-23\" class=\"sk-toggleable__label sk-toggleable__label-arrow\">DecisionTreeClassifier</label><div class=\"sk-toggleable__content\"><pre>DecisionTreeClassifier(random_state=3)</pre></div></div></div></div></div></div></div></div></div></div></div></div>"
      ],
      "text/plain": [
       "RandomizedSearchCV(cv=5,\n",
       "                   estimator=Pipeline(steps=[('columntransformer',\n",
       "                                              ColumnTransformer(remainder='passthrough',\n",
       "                                                                transformers=[('num',\n",
       "                                                                               StandardScaler(),\n",
       "                                                                               ['age',\n",
       "                                                                                'bmi',\n",
       "                                                                                'HbA1c_level',\n",
       "                                                                                'blood_glucose_level']),\n",
       "                                                                              ('ord',\n",
       "                                                                               OrdinalEncoder(),\n",
       "                                                                               ['smoking_history']),\n",
       "                                                                              ('nom',\n",
       "                                                                               OneHotEncoder(handle_unknown='ignore'),\n",
       "                                                                               ['gender'])])),\n",
       "                                             ('decisiontreeclassifier',\n",
       "                                              DecisionTreeClas...3))]),\n",
       "                   param_distributions={'decisiontreeclassifier__max_depth': [None,\n",
       "                                                                              10,\n",
       "                                                                              20,\n",
       "                                                                              30,\n",
       "                                                                              40,\n",
       "                                                                              50],\n",
       "                                        'decisiontreeclassifier__min_samples_leaf': <scipy.stats._distn_infrastructure.rv_discrete_frozen object at 0x000001D2C0DC8DD0>,\n",
       "                                        'decisiontreeclassifier__min_samples_split': <scipy.stats._distn_infrastructure.rv_discrete_frozen object at 0x000001D2C0E0BE50>},\n",
       "                   random_state=3)"
      ]
     },
     "execution_count": 52,
     "metadata": {},
     "output_type": "execute_result"
    }
   ],
   "source": [
    "# Parameter untuk pencarian acak\n",
    "param_distributions = {\n",
    "    'decisiontreeclassifier__max_depth': [None] + list(range(10, 51, 10)),  # Nilai untuk kedalaman maksimum\n",
    "    'decisiontreeclassifier__min_samples_split': randint(2, 11),  # Nilai untuk minimum sampel split\n",
    "    'decisiontreeclassifier__min_samples_leaf': randint(1, 5)  # Nilai untuk minimum sampel leaf\n",
    "}\n",
    "\n",
    "# Inisialisasi RandomizedSearchCV\n",
    "dt_random_search = RandomizedSearchCV(pipe_dt, param_distributions, cv=5, random_state=random_state)\n",
    "\n",
    "# Fitting model\n",
    "dt_random_search.fit(X_train, y_train)"
   ]
  },
  {
   "cell_type": "code",
   "execution_count": 53,
   "metadata": {},
   "outputs": [
    {
     "name": "stdout",
     "output_type": "stream",
     "text": [
      "Best parameters: {'decisiontreeclassifier__max_depth': 20, 'decisiontreeclassifier__min_samples_leaf': 4, 'decisiontreeclassifier__min_samples_split': 7}\n"
     ]
    }
   ],
   "source": [
    "# Output parameter terbaik\n",
    "print(\"Best parameters:\", dt_random_search.best_params_)"
   ]
  },
  {
   "cell_type": "markdown",
   "metadata": {},
   "source": [
    "Setelah dilakukan random search dan ditrain kembali pada data train, best hyperparameter yang dihasilkan adalah:\n",
    "- max_depth = 20\n",
    "- min_samples_leaf = 4\n",
    "- min_samples_split = 7\n",
    "\n",
    "sehingga akan dilakukan evaluasi menggunakan paramater terbaik dan dibandingkan dengan hasil pada model default."
   ]
  },
  {
   "cell_type": "code",
   "execution_count": 54,
   "metadata": {},
   "outputs": [],
   "source": [
    "# Get Best Estimator\n",
    "dt_random_search_best = dt_random_search.best_estimator_"
   ]
  },
  {
   "cell_type": "code",
   "execution_count": 55,
   "metadata": {},
   "outputs": [
    {
     "name": "stdout",
     "output_type": "stream",
     "text": [
      "Best cross-validation accuracy : 0.95\n",
      "Best parameters :  {'decisiontreeclassifier__max_depth': 20, 'decisiontreeclassifier__min_samples_leaf': 4, 'decisiontreeclassifier__min_samples_split': 7}\n",
      "Test set accuracy : 0.96\n"
     ]
    }
   ],
   "source": [
    "# print hasil dari pencarian hyperparameter tuning yang dilakukan dengan algoritma DT menggunakan metode Randomized Search.\n",
    "print('Best cross-validation accuracy : {:.2f}'.format(dt_random_search.best_score_))\n",
    "print('Best parameters : ', dt_random_search.best_params_)\n",
    "print('Test set accuracy : {:.2f}'.format(dt_random_search.score(X_test, y_test)))"
   ]
  },
  {
   "cell_type": "code",
   "execution_count": 56,
   "metadata": {},
   "outputs": [
    {
     "name": "stdout",
     "output_type": "stream",
     "text": [
      "Recall Score - Train Set  :  0.7641729982466394 \n",
      "\n",
      "Classification Report : \n",
      "               precision    recall  f1-score   support\n",
      "\n",
      "           0       0.98      0.99      0.99     70072\n",
      "           1       0.93      0.76      0.84      6844\n",
      "\n",
      "    accuracy                           0.97     76916\n",
      "   macro avg       0.95      0.88      0.91     76916\n",
      "weighted avg       0.97      0.97      0.97     76916\n",
      " \n",
      "\n",
      "Confusion Matrix      : \n",
      " <sklearn.metrics._plot.confusion_matrix.ConfusionMatrixDisplay object at 0x000001D2C0D5CC10>\n"
     ]
    },
    {
     "data": {
      "image/png": "[encoded data removed]",
      "text/plain": [
       "<Figure size 640x480 with 2 Axes>"
      ]
     },
     "metadata": {},
     "output_type": "display_data"
    }
   ],
   "source": [
    "# Check Performance Model against Train-Set setelah tuning\n",
    "\n",
    "y_pred_train = dt_random_search_best.predict(X_train)\n",
    "\n",
    "print('Recall Score - Train Set  : ', recall_score(y_train, y_pred_train), '\\n')\n",
    "print('Classification Report : \\n', classification_report(y_train, y_pred_train), '\\n')\n",
    "print('Confusion Matrix      : \\n', ConfusionMatrixDisplay.from_estimator(dt_random_search_best, X_train, y_train, cmap='Reds'))"
   ]
  },
  {
   "cell_type": "markdown",
   "metadata": {},
   "source": [
    "Pada hasil train set menggunakan model DT setelah tuning menghasilkan Recall score sebesar 0.76 yang menunjukkan bahwa model mampu mengidentifikasi sekitar 75% dari semua kasus positif (diabetes) yang sebenarnya ada dalam dataset. Apabila dibandingkan dengan hasil train set pada model DT sebelum tuning, score ini mengalami penurunan. Namun, akan dilihat test-setnya apakah goodfit atau tidak. Kemudian, pada hasil ini juga menghasilkan jumlah False Negative (FN) sebanyak 1614 menunjukkan bahwa model gagal mengidentifikasi 1614 kasus diabetes sebagai non-diabetes."
   ]
  },
  {
   "cell_type": "code",
   "execution_count": 57,
   "metadata": {},
   "outputs": [
    {
     "name": "stdout",
     "output_type": "stream",
     "text": [
      "Recall Score - Test Set   :  0.724053724053724 \n",
      "\n",
      "Classification Report : \n",
      "               precision    recall  f1-score   support\n",
      "\n",
      "           0       0.97      0.98      0.98     17592\n",
      "           1       0.78      0.72      0.75      1638\n",
      "\n",
      "    accuracy                           0.96     19230\n",
      "   macro avg       0.88      0.85      0.87     19230\n",
      "weighted avg       0.96      0.96      0.96     19230\n",
      " \n",
      "\n",
      "Confusion Matrix      : \n",
      " <sklearn.metrics._plot.confusion_matrix.ConfusionMatrixDisplay object at 0x000001D2C0DCBF10>\n"
     ]
    },
    {
     "data": {
      "image/png": "[encoded data removed]",
      "text/plain": [
       "<Figure size 640x480 with 2 Axes>"
      ]
     },
     "metadata": {},
     "output_type": "display_data"
    }
   ],
   "source": [
    "# Check Test-Set setelah tuning\n",
    "\n",
    "y_pred_test = dt_random_search_best.predict(X_test)\n",
    "\n",
    "print('Recall Score - Test Set   : ', recall_score(y_test, y_pred_test), '\\n')\n",
    "print('Classification Report : \\n', classification_report(y_test, y_pred_test), '\\n')\n",
    "print('Confusion Matrix      : \\n', ConfusionMatrixDisplay.from_estimator(dt_random_search_best, X_test, y_test, cmap='Reds'))"
   ]
  },
  {
   "cell_type": "markdown",
   "metadata": {},
   "source": [
    "Pada hasil test set menggunakan model DT setelah tuning menghasilkan Recall score sebesar 0.72 menunjukkan bahwa model mampu mengidentifikasi sekitar 72% dari semua kasus positif (diabetes) yang sebenarnya ada dalam dataset test. Jika dibandingkan dengan hasil test set pada model DT sebelum tuning tentunya lebih rendah, namun tidak jauh berbeda dengan recall score di train-set. Kemudian, pada hasil test-set ini jumlah False Negative (FN) sebanyak 452 yang menunjukkan bahwa model gagal mengidentifikasi 452 kasus diabetes sebagai non-diabetes pada dataset uji."
   ]
  },
  {
   "cell_type": "code",
   "execution_count": 58,
   "metadata": {},
   "outputs": [
    {
     "data": {
      "text/html": [
       "<div>\n",
       "<style scoped>\n",
       "    .dataframe tbody tr th:only-of-type {\n",
       "        vertical-align: middle;\n",
       "    }\n",
       "\n",
       "    .dataframe tbody tr th {\n",
       "        vertical-align: top;\n",
       "    }\n",
       "\n",
       "    .dataframe thead th {\n",
       "        text-align: right;\n",
       "    }\n",
       "</style>\n",
       "<table border=\"1\" class=\"dataframe\">\n",
       "  <thead>\n",
       "    <tr style=\"text-align: right;\">\n",
       "      <th></th>\n",
       "      <th>Baseline (Default Hyperparameter)</th>\n",
       "      <th>Random Search</th>\n",
       "    </tr>\n",
       "  </thead>\n",
       "  <tbody>\n",
       "    <tr>\n",
       "      <th>train - recall_score</th>\n",
       "      <td>0.983051</td>\n",
       "      <td>0.764173</td>\n",
       "    </tr>\n",
       "    <tr>\n",
       "      <th>test - recall_score</th>\n",
       "      <td>0.756410</td>\n",
       "      <td>0.724054</td>\n",
       "    </tr>\n",
       "  </tbody>\n",
       "</table>\n",
       "</div>"
      ],
      "text/plain": [
       "                      Baseline (Default Hyperparameter)  Random Search\n",
       "train - recall_score                           0.983051       0.764173\n",
       "test - recall_score                            0.756410       0.724054"
      ]
     },
     "execution_count": 58,
     "metadata": {},
     "output_type": "execute_result"
    }
   ],
   "source": [
    "# Save Classification Report into a Dictionary\n",
    "\n",
    "all_reports = performance_report(all_reports, y_train, y_pred_train, y_test, y_pred_test, 'Random Search')\n",
    "pd.DataFrame(all_reports)"
   ]
  },
  {
   "cell_type": "markdown",
   "metadata": {},
   "source": [
    "Dari hasil perbandingan antara model Decision Tree dengan default hyperparameter dan hasil setelah tuning menggunakan metode Random Search, diperoleh:\n",
    "1. Baseline (Default Hyperparameter):\n",
    "    - Skor recall pada data train sebesar 0.98 menunjukkan kemampuan model untuk mengidentifikasi sebagian besar kasus positif (diabetes) dengan sangat baik.\n",
    "    - Namun, pada data test, skor recall turun menjadi 0.76, menunjukkan adanya overfitting yang signifikan. Model cenderung tidak mampu melakukan generalisasi dengan baik pada data baru.\n",
    "\n",
    "2. Random Search (setelah tuning):\n",
    "    - Setelah tuning menggunakan metode Random Search, skor recall pada data train turun menjadi 0.76.\n",
    "    - Skor recall pada data test juga menurun menjadi 0.72.\n",
    "    - Meskipun terjadi penurunan performa pada kedua set data, model setelah tuning cenderung memiliki kemampuan generalisasi yang lebih baik daripada model dengan default hyperparameter.\n",
    "\n",
    "Berdasarkan hasil tersebut, saya akan memilih model setelah tuning dengan metode Random Search karena memiliki kemungkinan untuk lebih baik dalam melakukan generalisasi pada data baru. Meskipun demikian, perlu dilakukan further improvement untuk meningkatkan performa model."
   ]
  },
  {
   "cell_type": "markdown",
   "metadata": {},
   "source": [
    "# ix. Model Saving\n",
    "> Pada bagian ini, dilakukan proses penyimpanan model dan file-file lain yang terkait dengan hasil proses pembuatan model. Dengan melihat hasil Model Evaluation, pilihlah satu model terbaik untuk disimpan. Model terbaik ini akan digunakan kembali dalam melakukan Model Inference dan Model Deployment."
   ]
  },
  {
   "cell_type": "markdown",
   "metadata": {},
   "source": [
    "Saya akan save model DT setelah melakukan tuning dengan random search."
   ]
  },
  {
   "cell_type": "code",
   "execution_count": 59,
   "metadata": {},
   "outputs": [],
   "source": [
    "# Save file model SVM default as best model\n",
    "with open('model_DT.pkl', 'wb') as file_1: \n",
    "  pickle.dump(dt_random_search_best, file_1)"
   ]
  },
  {
   "cell_type": "markdown",
   "metadata": {},
   "source": [
    "# xi. Model Inference\n",
    "> Model yang sudah dilatih akan dicoba pada data yang bukan termasuk ke dalam train-set ataupun test-set. Data ini harus dalam format yang asli, bukan data yang sudah di-scaled. Gunakan model terbaik berdasarkan hasil Model Evaluation. Notebook Model Inference haruslah berbeda dengan notebook saat pembuatan model dilakukan."
   ]
  },
  {
   "cell_type": "markdown",
   "metadata": {},
   "source": [
    "Terdapat dalam notebook \"P1M2_nailina_farah_inf.ipynb\""
   ]
  },
  {
   "cell_type": "markdown",
   "metadata": {},
   "source": [
    "# xii. Pengambilan Kesimpulan\n",
    "> Pada bagian terakhir ini, harus berisi kesimpulan yang mencerminkan hasil yang didapat dengan objective yang sudah ditulis di bagian pengenalan."
   ]
  },
  {
   "cell_type": "markdown",
   "metadata": {},
   "source": [
    "## Kesimpulan Hasil"
   ]
  },
  {
   "cell_type": "markdown",
   "metadata": {},
   "source": [
    "**Kesimpulan Secara Keseluruhan:**\n",
    "Proyek ini bertujuan untuk memprediksi kemungkinan terjadinya diabetes pada seseorang berdasarkan beberapa faktor riwayat medis dan demografi menggunakan data yang tersedia. Metrik evaluasi yang digunakan adalah Recall karena fokus pada mengurangi False Negatives yang dapat menyebabkan pengobatan yang terlambat atau tidak sesuai. Berikut beberapa poin highlight:\n",
    "- Data awal berjumlah 100.000 baris dengan 9 fitur, termasuk 3 kolom float, 4 kolom integer, dan 2 kolom objek.\n",
    "- Setelah penanganan data duplikat, data berkurang menjadi 96.146 baris.\n",
    "- Model Decision Tree (DT) dipilih dan dituning menggunakan Random Search untuk meningkatkan performa.\n",
    "- Setelah tuning, DT menghasilkan Recall score 0.76 pada train set dengan 1614 False Negatives, dan 0.72 pada test set dengan 452 False Negatives.\n",
    "- Hasil perbandingan antara model DT dengan default hyperparameter dan hasil setelah tuning menunjukkan peningkatan performa setelah tuning, meskipun masih kurang baik performanya.\n",
    "\n",
    "Kesimpulannya, meskipun terdapat tantangan seperti overfitting dan penurunan performa setelah tuning, model Decision Tree setelah tuning dengan Random Search menunjukkan potensi yang lebih baik dalam memprediksi diabetes. Langkah selanjutnya adalah melakukan further improvement untuk meningkatkan performa model sebelum diimplementasikan secara luas dalam praktik klinis.\n"
   ]
  },
  {
   "cell_type": "markdown",
   "metadata": {},
   "source": [
    "**Kesimpulan Model DT:**\n",
    "\n",
    "**Kelebihan DT:**\n",
    "1. **Simple to understand and to interpret:** Kemudahan dalam memahami dan menginterpretasi model Decision Tree membuat model ini mudah dimengerti dan dapat divisualisasikan, sehingga memungkinkan interpretasi yang jelas terhadap faktor-faktor yang mempengaruhi prediksi diabetes.\n",
    "\n",
    "2. **Non-parametric method:** Karena Decision Tree adalah metode non-parametrik, sehingga memudahkan membuat model tanpa mempertimbangkan asumsi-asumsi.\n",
    "\n",
    "3. **Handling high dimensional data:** Kemampuan Decision Tree dalam menangani data dengan dimensi tinggi, meskipun data saya tidak berdimensi tinggi namun ini bagus untuk menangani kompleksitas data prediksi diabetes yang terdiri dari beberapa fitur.\n",
    "\n",
    "4. **Less effort for training:** Decision Tree membutuhkan usaha yang relatif lebih sedikit dalam proses training, yang sesuai dengan keunggulan algoritma ini dalam menghemat waktu dan sumber daya.\n",
    "\n",
    "5. **Classify non-linearly separable data:** Kemampuan Decision Tree untuk mengklasifikasikan data yang tidak linear sesuai dengan kasus ini bahwa model ini cocok untuk mengklasifikasikan hubungan antara variabel prediktor dan variabel target dalam prediksi diabetes.\n",
    "\n",
    "**Keterbatasan DT:**\n",
    "1. **Prone to overfitting:** Pada kasus kali ini menunjukkan bahwa model Decision Tree cenderung mengalami overfitting, yang sejalan dengan kelemahan algoritma ini terhadap kemungkinan mempelajari pola yang spesifik pada data training dan gagal dalam melakukan generalisasi pada data yang belum pernah dilihat sebelumnya. Namun, dapat diatasi dengan hyperparameter tuning\n",
    "\n",
    "2. **Bias towards dominant classes:** Hasil kasus ini yang menunjukkan bias terhadap kelas dominan dalam dataset tidak seimbang menggambarkan kelemahan Decision Tree dalam menangani situasi di mana kelas target tidak seimbang, seperti pada prediksi diabetes.\n",
    "\n",
    "3. **Sensitive to small data changes:** Kepekaan Decision Tree terhadap perubahan kecil dalam data ini dapat bereaksi terhadap perubahan kecil dalam dataset, yang dapat memengaruhi struktur pohon dan kinerja keseluruhan model.\n"
   ]
  },
  {
   "cell_type": "markdown",
   "metadata": {},
   "source": [
    "**Further Improvement:**\n",
    "1. **Menggunakan SMOTE:** Karena pada dataset ini memiliki jumlah yang imbalance, maka sebaiknya dilakukan data balancing terlebih dahulu agar model yang dibuat semakin baik performanya.\n",
    "2. **Hanya memilih feature yang berkorelasi:** Pada kasus ini saya menggunakan seluruh feature karena berdasarkan referensi feeature tersebut adalah feature yang penting memengaruhi diabates. Namun, dapat juga didrop agar model lebih baik karena pada dataset ini, terdapat beberapa feature yang nilai korelasinya rendah dengan terget (diabetes).\n",
    "3. **Menggunakan teknik boosting lain:** Pada kasus ini, saya hanya menggunakan Gradient Boosting karena menurut saya itu cocok untuk dataset ini dengan beberapa alasan diantaranya mampu menangani overfitting. Namun, lebih baik dicoba juga untuk AdaBoost dan XGBoost yang mungkin dapat menjadi model terbaik agar dapat meningkatkan performa dan kestabilan prediksi.\n",
    "4. **Hyperparameter Tuning yang Lebih Lanjut:** Melakukan tuning hyperparameter dengan rentang yang lebih luas dan menggunakan metode optimasi yang lebih canggih seperti Grid Search atau Bayesian Optimization untuk mencari kombinasi hyperparameter yang optimal.\n",
    "5. **Cross-Validation yang Lebih Komprehensif:** Menggunakan teknik cross-validation yang lebih kompleks seperti nested cross-validation untuk mengevaluasi model secara lebih akurat dan menghindari overfitting.\n",
    "\n",
    "Dengan melakukan improvement pada beberapa aspek di atas, diharapkan model dapat menghasilkan prediksi yang lebih akurat dan dapat diandalkan untuk membantu dalam deteksi dini dan manajemen penyakit diabetes."
   ]
  },
  {
   "cell_type": "markdown",
   "metadata": {},
   "source": [
    "**Business Insight:**\n",
    "1. **Pola Penderita Diabetes pada Rentang Usia:** Terlihat dari visualisasi bahwa penderita diabetes paling tinggi berada pada kelompok usia lanjut, khususnya di atas 60 tahun dengan tingkat tertinggi pada rentang usia 75-80 tahun ke atas. Hal ini menunjukkan pentingnya pemeriksaan dan pengelolaan diabetes pada populasi lanjut usia.\n",
    "\n",
    "2. **Tingkat BMI dan Risiko Diabetes:** Scatterplot menunjukkan bahwa sebagian besar individu memiliki BMI di atas 25, yang mengindikasikan kelebihan berat badan hingga obesitas. Hal ini menandakan bahwa perhatian terhadap kontrol berat badan dan gaya hidup sehat dapat menjadi faktor kunci dalam mencegah diabetes dan penyakit terkait lainnya.\n",
    "\n",
    "3. **Hubungan antara Diabetes dan Hipertensi:** Meskipun hipertensi sering dikaitkan dengan diabetes, visualisasi menunjukkan bahwa lebih dari 50% pasien diabetes tidak menderita hipertensi. Ini menyoroti kompleksitas hubungan antara faktor risiko kesehatan dan menunjukkan perlunya penelitian lebih lanjut tentang faktor-faktor penyebab diabetes yang mungkin lebih kompleks daripada yang dianggap sebelumnya.\n",
    "\n",
    "4. **Frekuensi Tingkat Glukosa Darah pada Penderita Diabetes:** Histogram menunjukkan bahwa frekuensi tertinggi tingkat glukosa darah pada penderita diabetes berada di sekitar rentang 150-160, yang menunjukkan kebutuhan untuk memantau dan mengelola kadar glukosa darah pada pasien diabetes untuk mengurangi risiko komplikasi.\n",
    "\n",
    "5. **Perbedaan Risiko Diabetes antara Gender:** Pie chart menunjukkan bahwa perempuan memiliki risiko lebih tinggi untuk menderita diabetes dibandingkan dengan laki-laki. Hal ini menunjukkan perlunya pendekatan khusus dalam pencegahan dan manajemen diabetes pada populasi perempuan. Namun, juga perlu diperhatikan polanya baik pada laki-laki maupun perempuan.\n",
    "\n",
    "Dengan mempertimbangkan temuan ini, diharapkan pihak terkait dapat mengambil langkah-langkah proaktif dalam pencegahan, manajemen, dan perawatan diabetes, serta meningkatkan pemahaman tentang faktor-faktor risiko yang berkontribusi terhadap penyakit ini."
   ]
  },
  {
   "cell_type": "markdown",
   "metadata": {},
   "source": [
    "## Jawaban Conceptual Problems"
   ]
  },
  {
   "cell_type": "markdown",
   "metadata": {},
   "source": [
    "### 1. Jelaskan latar belakang adanya bagging dan cara kerja bagging !"
   ]
  },
  {
   "cell_type": "markdown",
   "metadata": {},
   "source": [
    "Bagging (Bootstrap Aggregating) adalah sebuah teknik pengelompokan data yang digunakan untuk membangun model pembelajaran mesin yang lebih stabil dan akurat. \n",
    "\n",
    "Cara kerja bagging yaitu:\n",
    "1. Data pembelajaran: Bagging menggunakan data pembelajaran yang diperlukan untuk membangun model pembelajaran. Data ini diperlukan untuk mengikuti langkah-langkah pembelajaran yang akan dilakukan.\n",
    "2. Bootstrap: Bagging menggunakan bootstrap, yang merupakan teknik pengumpulan data yang mengumpulkan data pembelajaran secara acak dengan menggabungkan duplikasi data. Ini dilakukan sebanyak 100 kali (atau sekali setiap bagging) untuk membangun model pembelajaran.\n",
    "3. Pembelajaran: Setiap kali pembelajaran, model pembelajaran akan dilakukan dengan data bootstrap yang berbeda. Hal ini akan menghasilkan model pembelajaran yang berbeda, yang akan digunakan untuk membuat model akhir.\n",
    "4. Aggregating: Setelah model pembelajaran dibangun, bagging akan mengumpulkan hasil model-model tersebut dan mencoba untuk menemukan persamaan yang paling dekat dengan data pembelajaran asli. Ini akan menghasilkan model pembelajaran akhir yang lebih stabil dan akurat.\n",
    "\n",
    "Bagging  membantu untuk mengurangi efek overfitting dan membangun model yang lebih stabil dan akurat. Contoh bagging adalah random forest. Random forest merupakan decision tree yang dibagging.\n",
    "\n",
    "Source:\n",
    "- https://wiragotama.github.io/resources/ebook/intro-to-ml-secured.pdf\n",
    "- https://ejournal.brin.go.id/JTL/article/download/795/527\n",
    "- https://repository.its.ac.id/42811/2/3313100009-Undergraduate_Thesis.pdf"
   ]
  },
  {
   "cell_type": "markdown",
   "metadata": {},
   "source": [
    "### 2. Jelaskan perbedaan cara kerja algoritma Random Forest dengan algoritma boosting yang Anda pilih !"
   ]
  },
  {
   "cell_type": "markdown",
   "metadata": {},
   "source": [
    "Algoritma boosting yang saya pilih adalah Gradient Boosting.\n",
    "Random Forest dan Gradient Boosting adalah dua teknik pembelajaran mesin yang berbeda dalam cara kerjanya.\n",
    "\n",
    "**Random Forest** adalah teknik ensemble yang menggunakan bagging (bootstrap aggregating) dan random feature selection. Cara kerjanya adalah:\n",
    "1. Memilih beberapa pohon keputusan secara acak dari data pembelajaran.\n",
    "2. Memilih beberapa variabel secara acak dari setiap pohon keputusan.\n",
    "3. Menentukan kelas yang paling banyak diperoleh dari semua pohon keputusan.\n",
    "4. Memperlakukan langkah 1-3 sebanyak kali yang diperlukan.\n",
    "\n",
    "**Gradient Boosting** adalah teknik ensemble yang menggunakan boosting untuk proses pengoptimalan dengan menggunakan loss function untuk meminimalisir error. Cara kerjanya adalah:\n",
    "1. Memilih pohon keputusan pertama dari data pembelajaran.\n",
    "2. Menghitung error pada pohon tersebut.\n",
    "3. Memilih pohon keputusan kedua yang memiliki error yang paling rendah.\n",
    "4. Menghitung error pada pohon tersebut.\n",
    "5. Menghitung error pada semua pohon keputusan.\n",
    "\n",
    "Perbedaan utama antara Random Forest dan Gradient Boosting adalah cara pembentukan pohonnya. Random Forest menggunakan bagging dan random feature selection, sedangkan Gradient Boosting menggunakan boosting untuk proses pengoptimalan dengan menggunakan loss function untuk meminimalisir error.\n",
    "\n",
    "Source:\n",
    "- https://repository.uinjkt.ac.id/dspace/bitstream/123456789/74286/1/ZULFATUL%20AINI-FST.pdf\n",
    "- https://ejurnal.ung.ac.id/index.php/jjom/article/download/15869/5638\n",
    "- https://dqlab.id/algoritma-machine-learning-yang-perlu-dipelajari\n",
    "- http://repository.untag-sby.ac.id/5666/8/JURNAL.pdf\n",
    "- https://ejournal.brin.go.id/JTL/article/download/795/527"
   ]
  },
  {
   "cell_type": "markdown",
   "metadata": {},
   "source": [
    "### 3. Jelaskan apa yang dimaksud dengan Cross Validation !"
   ]
  },
  {
   "cell_type": "markdown",
   "metadata": {},
   "source": [
    "Cross-validation adalah teknik untuk mengevaluasi kinerja model pembelajaran mesin dan mengetahui kinerja model dalam menangani data yang belum pernah dipelajari sebelumnya. \n",
    "\n",
    "Cara kerja cross-validation adalah:\n",
    "1. Bagi dataset menjadi beberapa bagian atau \"fold\".\n",
    "2. Untuk setiap fold, model dipelajari menggunakan bagian data yang lain, dan kinerja model diuji menggunakan bagian data yang tidak digunakan dalam pelajaran.\n",
    "3. Repeat 1-2 steps untuk setiap fold.\n",
    "4. Rata-rata kinerja model dari setiap fold untuk menentukan kinerja total model.\n",
    "\n",
    "Cross-validation berguna untuk menghindari overfitting. Cross-validation juga berguna untuk mengetahui kinerja model pada data yang belum pernah dipelajari, yang akan menjadi data untuk produksi.\n",
    "Tidak semua teknik cross-validation sama, ada beberapa teknik yang berbeda, seperti k-fold cross-validation, leave-one-out cross-validation, dan nested cross-validation. Semua teknik cross-validation memiliki ciri utama yang sama, yaitu menggunakan bagian data untuk pelajaran dan bagian data untuk uji, dan menghitung kinerja model dari setiap bagian data.\n",
    "\n",
    "Source:\n",
    "- https://towardsdatascience.com/what-is-cross-validation-60c01f9d9e75\n",
    "- http://repository.untag-sby.ac.id/5666/8/JURNAL.pdf\n",
    "- https://neptune.ai/blog/cross-validation-in-machine-learning-how-to-do-it-right\n",
    "- https://wiragotama.github.io/resources/ebook/intro-to-ml-secured.pdf\n",
    "- https://en.wikipedia.org/wiki/Cross-validation"
   ]
  }
 ],
 "metadata": {
  "kernelspec": {
   "display_name": "base",
   "language": "python",
   "name": "python3"
  },
  "language_info": {
   "codemirror_mode": {
    "name": "ipython",
    "version": 3
   },
   "file_extension": ".py",
   "mimetype": "text/x-python",
   "name": "python",
   "nbconvert_exporter": "python",
   "pygments_lexer": "ipython3",
   "version": "3.11.5"
  }
 },
 "nbformat": 4,
 "nbformat_minor": 2
}
