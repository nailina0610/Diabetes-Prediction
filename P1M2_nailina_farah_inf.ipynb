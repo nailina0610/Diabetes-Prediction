{
 "cells": [
  {
   "cell_type": "markdown",
   "metadata": {},
   "source": [
    "# Perkenalan"
   ]
  },
  {
   "cell_type": "markdown",
   "metadata": {},
   "source": [
    "Nama : Nailina Farah\n",
    "\n",
    "Batch : FTDS_RMT_28\n",
    "\n",
    "Dataset : diabetes_prediction_dataset.csv (https://www.kaggle.com/datasets/iammustafatz/diabetes-prediction-dataset)"
   ]
  },
  {
   "cell_type": "markdown",
   "metadata": {},
   "source": [
    "# Model Inference"
   ]
  },
  {
   "cell_type": "code",
   "execution_count": 1,
   "metadata": {},
   "outputs": [],
   "source": [
    "# Import Libaries\n",
    "import pickle\n",
    "import pandas as pd"
   ]
  },
  {
   "cell_type": "markdown",
   "metadata": {},
   "source": [
    "# Load Model\n",
    "> Load model yang telah dibuat pada notebook berbeda"
   ]
  },
  {
   "cell_type": "code",
   "execution_count": 2,
   "metadata": {},
   "outputs": [],
   "source": [
    "# Load all models dari perhitungan sebelumnya\n",
    "\n",
    "with open('model_DT.pkl', 'rb') as  file_1: \n",
    "  model_DT = pickle.load(file_1)"
   ]
  },
  {
   "cell_type": "markdown",
   "metadata": {},
   "source": [
    "# Create Data Inference\n",
    "> Membuat data baru untuk mencoba model yang telah dibuat"
   ]
  },
  {
   "cell_type": "markdown",
   "metadata": {},
   "source": [
    "Menginput value dari kolom-kolom pada data_inf"
   ]
  },
  {
   "cell_type": "code",
   "execution_count": 3,
   "metadata": {},
   "outputs": [
    {
     "data": {
      "text/html": [
       "<div>\n",
       "<style scoped>\n",
       "    .dataframe tbody tr th:only-of-type {\n",
       "        vertical-align: middle;\n",
       "    }\n",
       "\n",
       "    .dataframe tbody tr th {\n",
       "        vertical-align: top;\n",
       "    }\n",
       "\n",
       "    .dataframe thead th {\n",
       "        text-align: right;\n",
       "    }\n",
       "</style>\n",
       "<table border=\"1\" class=\"dataframe\">\n",
       "  <thead>\n",
       "    <tr style=\"text-align: right;\">\n",
       "      <th></th>\n",
       "      <th>gender</th>\n",
       "      <th>age</th>\n",
       "      <th>hypertension</th>\n",
       "      <th>heart_disease</th>\n",
       "      <th>smoking_history</th>\n",
       "      <th>bmi</th>\n",
       "      <th>HbA1c_level</th>\n",
       "      <th>blood_glucose_level</th>\n",
       "    </tr>\n",
       "  </thead>\n",
       "  <tbody>\n",
       "    <tr>\n",
       "      <th>0</th>\n",
       "      <td>Male</td>\n",
       "      <td>34.0</td>\n",
       "      <td>0</td>\n",
       "      <td>0</td>\n",
       "      <td>current</td>\n",
       "      <td>28.73</td>\n",
       "      <td>4.0</td>\n",
       "      <td>100</td>\n",
       "    </tr>\n",
       "  </tbody>\n",
       "</table>\n",
       "</div>"
      ],
      "text/plain": [
       "  gender   age  hypertension  heart_disease smoking_history    bmi  \\\n",
       "0   Male  34.0             0              0         current  28.73   \n",
       "\n",
       "   HbA1c_level  blood_glucose_level  \n",
       "0          4.0                  100  "
      ]
     },
     "execution_count": 3,
     "metadata": {},
     "output_type": "execute_result"
    }
   ],
   "source": [
    "# create new data\n",
    "data_inf = {\n",
    "    'gender': 'Male',\n",
    "    'age': 34.0,\n",
    "    'hypertension': 0,\n",
    "    'heart_disease': 0,\n",
    "    'smoking_history': 'current',\n",
    "    'bmi': 28.73,\n",
    "    'HbA1c_level': 4.0,\n",
    "    'blood_glucose_level': 100\n",
    "}\n",
    "\n",
    "data_inf = pd.DataFrame([data_inf])\n",
    "data_inf"
   ]
  },
  {
   "cell_type": "markdown",
   "metadata": {},
   "source": [
    "# Predict Data Menggunakan Model"
   ]
  },
  {
   "cell_type": "code",
   "execution_count": 4,
   "metadata": {},
   "outputs": [
    {
     "name": "stdout",
     "output_type": "stream",
     "text": [
      "Prediksi menunjukkan kemungkinan tidak terjadinya diabetes.\n"
     ]
    }
   ],
   "source": [
    "# Predict new data inference using Decision Tree model\n",
    "y_pred_inf = model_DT.predict(data_inf)\n",
    "if y_pred_inf[0] == 1:\n",
    "    print(\"Prediksi menunjukkan kemungkinan terjadinya diabetes.\")\n",
    "else:\n",
    "    print(\"Prediksi menunjukkan kemungkinan tidak terjadinya diabetes.\")"
   ]
  },
  {
   "cell_type": "markdown",
   "metadata": {},
   "source": [
    "# Kesimpulan"
   ]
  },
  {
   "cell_type": "markdown",
   "metadata": {},
   "source": [
    "Dari hasil yang didapatkan, pada laki-laki dengan usia 34 tahun dengan BMI 28,73 (overweight), perokok aktif, namun tidak memiliki riwayat hipertensi dan penyakit jantung diprediksi tidak memiliki penyakit diabetes."
   ]
  }
 ],
 "metadata": {
  "kernelspec": {
   "display_name": "base",
   "language": "python",
   "name": "python3"
  },
  "language_info": {
   "codemirror_mode": {
    "name": "ipython",
    "version": 3
   },
   "file_extension": ".py",
   "mimetype": "text/x-python",
   "name": "python",
   "nbconvert_exporter": "python",
   "pygments_lexer": "ipython3",
   "version": "3.11.5"
  }
 },
 "nbformat": 4,
 "nbformat_minor": 2
}
